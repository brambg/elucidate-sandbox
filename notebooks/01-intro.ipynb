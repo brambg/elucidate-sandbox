{
 "cells": [
  {
   "cell_type": "markdown",
   "metadata": {},
   "source": [
    "# elucidate\n",
    "\n"
   ]
  },
  {
   "cell_type": "markdown",
   "metadata": {},
   "source": [
    "- url\n",
    "- W3C Webannotation\n"
   ]
  },
  {
   "cell_type": "markdown",
   "metadata": {},
   "source": [
    "[Use cases](use-cases.ipynb)"
   ]
  },
  {
   "cell_type": "code",
   "execution_count": 1,
   "metadata": {},
   "outputs": [],
   "source": [
    "import requests\n",
    "from pprint import pprint,pformat\n",
    "\n",
    "elucidate_base_url = 'http://localhost:8080/annotation'\n",
    "headers = {\n",
    "    'Accept':'application/ld+json; profile=\"http://www.w3.org/ns/anno.jsonld\"',\n",
    "    'Content-Type': 'application/ld+json; profile=\"http://www.w3.org/ns/anno.jsonld\"'\n",
    "}\n",
    "\n",
    "def get_etag(url:str)->str:\n",
    "    return requests.get(url).headers['etag'][3:-1]"
   ]
  },
  {
   "cell_type": "code",
   "execution_count": 4,
   "metadata": {},
   "outputs": [
    {
     "data": {
      "text/plain": [
       "201"
      ]
     },
     "execution_count": 4,
     "metadata": {},
     "output_type": "execute_result"
    }
   ],
   "source": [
    "body = {\n",
    "  \"@context\": [\n",
    "    \"http://www.w3.org/ns/anno.jsonld\",\n",
    "    \"http://www.w3.org/ns/ldp.jsonld\"\n",
    "  ],\n",
    "  \"type\": [\n",
    "    \"BasicContainer\",\n",
    "    \"AnnotationCollection\"\n",
    "  ],\n",
    "  \"label\": \"A Container for Web Annotations\"\n",
    "}\n",
    "\n",
    "response = requests.post(url=elucidate_base_url+\"/w3c/\",headers=headers,json=body)\n",
    "container_uri = response.headers['location']\n",
    "\n",
    "response.status_code"
   ]
  },
  {
   "cell_type": "code",
   "execution_count": 5,
   "metadata": {},
   "outputs": [
    {
     "data": {
      "text/plain": [
       "'http://localhost:8080/annotation/w3c/19e03300-d6f4-489d-8b91-a63d729db71a/'"
      ]
     },
     "execution_count": 5,
     "metadata": {},
     "output_type": "execute_result"
    }
   ],
   "source": [
    "container_uri"
   ]
  },
  {
   "cell_type": "code",
   "execution_count": 7,
   "metadata": {},
   "outputs": [
    {
     "data": {
      "text/plain": [
       "201"
      ]
     },
     "execution_count": 7,
     "metadata": {},
     "output_type": "execute_result"
    }
   ],
   "source": [
    "annotation = {\n",
    "  \"@context\": \"http://www.w3.org/ns/anno.jsonld\",\n",
    "  \"type\": \"Annotation\",\n",
    "  \"motivation\": \"bookmarking\",\n",
    "  \"body\": {\n",
    "    \"type\": \"TextualBody\",\n",
    "    \"value\": \"I like this page!\"\n",
    "  },\n",
    "  \"target\": \"http://www.example.com/index.html\"\n",
    "}\n",
    "\n",
    "response = requests.post(\n",
    "    url=container_uri,\n",
    "    headers=headers,\n",
    "    json=annotation)\n",
    "annotation_uri = response.headers['location']\n",
    "\n",
    "response.status_code"
   ]
  },
  {
   "cell_type": "code",
   "execution_count": 8,
   "metadata": {},
   "outputs": [
    {
     "name": "stdout",
     "output_type": "stream",
     "text": [
      "Location = http://localhost:8080/annotation/w3c/19e03300-d6f4-489d-8b91-a63d729db71a/e427f821-c612-4a4d-ad41-6a67f3fdcd2c\n",
      "ETag = W/\"3d3f370820093e76c394dd882a2dff42\"\n",
      "Link = <http://www.w3.org/ns/ldp#Resource>; rel=\"type\"\n",
      "Allow = PUT,GET,OPTIONS,HEAD,DELETE\n",
      "Vary = Accept\n",
      "Memento-Datetime = Mon, 29 Mar 2021 21:24:16 UTC\n",
      "X-Content-Type-Options = nosniff\n",
      "X-XSS-Protection = 1; mode=block\n",
      "Cache-Control = no-cache, no-store, max-age=0, must-revalidate\n",
      "Pragma = no-cache\n",
      "Expires = 0\n",
      "X-Frame-Options = DENY\n",
      "Content-Type = application/ld+json; profile=\"http://www.w3.org/ns/anno.jsonld\";charset=UTF-8\n",
      "Transfer-Encoding = chunked\n",
      "Date = Mon, 29 Mar 2021 21:24:16 GMT\n"
     ]
    }
   ],
   "source": [
    "for (k,v) in response.headers.items():\n",
    "    print(f\"{k} = {v}\")"
   ]
  }
 ],
 "metadata": {
  "kernelspec": {
   "display_name": "Python 3",
   "language": "python",
   "name": "python3"
  },
  "language_info": {
   "codemirror_mode": {
    "name": "ipython",
    "version": 3
   },
   "file_extension": ".py",
   "mimetype": "text/x-python",
   "name": "python",
   "nbconvert_exporter": "python",
   "pygments_lexer": "ipython3",
   "version": "3.8.5"
  }
 },
 "nbformat": 4,
 "nbformat_minor": 4
}
