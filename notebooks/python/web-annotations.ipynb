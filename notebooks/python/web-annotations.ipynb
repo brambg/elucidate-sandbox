{
 "cells": [
  {
   "cell_type": "markdown",
   "metadata": {},
   "source": [
    "## setup"
   ]
  },
  {
   "cell_type": "code",
   "execution_count": null,
   "metadata": {},
   "outputs": [],
   "source": [
    "import requests\n",
    "from pprint import pprint\n",
    "\n",
    "elucidate_base_url = 'http://localhost:8080/annotation'\n",
    "headers = {\n",
    "    'Accept':'application/ld+json; profile=\"http://www.w3.org/ns/anno.jsonld\"',\n",
    "    'Content-Type': 'application/ld+json; profile=\"http://www.w3.org/ns/anno.jsonld\"'\n",
    "}\n",
    "body = {\n",
    "  \"@context\": [\n",
    "    \"http://www.w3.org/ns/anno.jsonld\",\n",
    "    \"http://www.w3.org/ns/ldp.jsonld\"\n",
    "  ],\n",
    "  \"type\": [\n",
    "    \"BasicContainer\",\n",
    "    \"AnnotationCollection\"\n",
    "  ],\n",
    "  \"label\": \"Test Annotation Container\"\n",
    "}\n",
    "\n",
    "response = requests.post(url=elucidate_base_url+\"/w3c/\",headers=headers,json=body)\n",
    "container_uri = response.json()['id']"
   ]
  },
  {
   "cell_type": "markdown",
   "metadata": {},
   "source": [
    "## WebAnnotations kunnen eenvoudig zijn:"
   ]
  },
  {
   "cell_type": "code",
   "execution_count": null,
   "metadata": {},
   "outputs": [],
   "source": [
    "annotation = {\n",
    "  \"@context\": \"http://www.w3.org/ns/anno.jsonld\",\n",
    "  \"id\": \"http://example.org/anno1\",\n",
    "  \"type\": \"Annotation\",\n",
    "  \"body\": \"http://example.org/post1\",\n",
    "  \"target\": \"http://example.com/page1\"\n",
    "}\n",
    "response = requests.post(url=container_uri,headers=headers,json=annotation)\n",
    "\n",
    "response.status_code"
   ]
  },
  {
   "cell_type": "code",
   "execution_count": null,
   "metadata": {
    "scrolled": true
   },
   "outputs": [],
   "source": [
    "print(response.json()['id'])"
   ]
  },
  {
   "cell_type": "markdown",
   "metadata": {},
   "source": [
    "## of uitgebreid:"
   ]
  },
  {
   "cell_type": "code",
   "execution_count": null,
   "metadata": {},
   "outputs": [],
   "source": [
    "annotation = {\n",
    "  \"@context\": \"http://www.w3.org/ns/anno.jsonld\",\n",
    "  \"id\": \"http://example.org/anno38\",\n",
    "  \"type\": \"Annotation\",\n",
    "  \"motivation\": \"commenting\",\n",
    "  \"creator\": {\n",
    "    \"id\": \"http://example.org/user1\",\n",
    "    \"type\": \"Person\",\n",
    "    \"name\": \"A. Person\",\n",
    "    \"nickname\": \"user1\"\n",
    "  },\n",
    "  \"created\": \"2015-10-13T13:00:00Z\",\n",
    "  \"generator\": {\n",
    "    \"id\": \"http://example.org/client1\",\n",
    "    \"type\": \"Software\",\n",
    "    \"name\": \"Code v2.1\",\n",
    "    \"homepage\": \"http://example.org/homepage1\"\n",
    "  },\n",
    "  \"generated\": \"2015-10-14T15:13:28Z\",\n",
    "  \"stylesheet\": {\n",
    "    \"id\": \"http://example.org/stylesheet1\",\n",
    "    \"type\": \"CssStylesheet\"\n",
    "  },\n",
    "  \"body\": [\n",
    "    {\n",
    "      \"type\": \"TextualBody\",\n",
    "      \"purpose\": \"tagging\",\n",
    "      \"value\": \"love\"\n",
    "    },\n",
    "    {\n",
    "      \"type\": \"Choice\",\n",
    "      \"items\": [\n",
    "        {\n",
    "          \"type\": \"TextualBody\",\n",
    "          \"purpose\": \"describing\",\n",
    "          \"value\": \"I really love this particular bit of text in this XML. No really.\",\n",
    "          \"format\": \"text/plain\",\n",
    "          \"language\": \"en\",\n",
    "          \"creator\": \"http://example.org/user1\"\n",
    "        },\n",
    "        {\n",
    "          \"type\": \"SpecificResource\",\n",
    "          \"purpose\": \"describing\",\n",
    "          \"source\": {\n",
    "            \"id\": \"http://example.org/comment1\",\n",
    "            \"type\": \"Audio\",\n",
    "            \"format\": \"audio/mpeg\",\n",
    "            \"language\": \"de\",\n",
    "            \"creator\": {\n",
    "              \"id\": \"http://example.org/user2\",\n",
    "              \"type\": \"Person\"\n",
    "            }\n",
    "          }\n",
    "        }\n",
    "      ]\n",
    "    }\n",
    "  ],\n",
    "  \"target\": {\n",
    "    \"type\": \"SpecificResource\",\n",
    "    \"styleClass\": \"mystyle\",\n",
    "    \"source\": \"http://example.com/document1\",\n",
    "    \"state\": [\n",
    "      {\n",
    "        \"type\": \"HttpRequestState\",\n",
    "        \"value\": \"Accept: application/xml\",\n",
    "        \"refinedBy\": {\n",
    "          \"type\": \"TimeState\",\n",
    "          \"sourceDate\": \"2015-09-25T12:00:00Z\"\n",
    "        }\n",
    "      }\n",
    "    ],\n",
    "    \"selector\": {\n",
    "      \"type\": \"FragmentSelector\",\n",
    "      \"value\": \"xpointer(/doc/body/section[2]/para[1])\",\n",
    "      \"refinedBy\": {\n",
    "        \"type\": \"TextPositionSelector\",\n",
    "        \"start\": 6,\n",
    "        \"end\": 27\n",
    "      }\n",
    "    }\n",
    "  }\n",
    "}\n",
    "response = requests.post(url=container_uri,headers=headers,json=annotation)\n",
    "\n",
    "response.status_code"
   ]
  },
  {
   "cell_type": "code",
   "execution_count": null,
   "metadata": {
    "scrolled": true
   },
   "outputs": [],
   "source": [
    "print(response.json()['id'])"
   ]
  }
 ],
 "metadata": {
  "kernelspec": {
   "display_name": "Python 3",
   "language": "python",
   "name": "python3"
  },
  "language_info": {
   "codemirror_mode": {
    "name": "ipython",
    "version": 3
   },
   "file_extension": ".py",
   "mimetype": "text/x-python",
   "name": "python",
   "nbconvert_exporter": "python",
   "pygments_lexer": "ipython3",
   "version": "3.8.5"
  }
 },
 "nbformat": 4,
 "nbformat_minor": 2
}
