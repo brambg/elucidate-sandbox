{
 "cells": [
  {
   "cell_type": "markdown",
   "metadata": {},
   "source": [
    "## setup"
   ]
  },
  {
   "cell_type": "code",
   "execution_count": 1,
   "metadata": {},
   "outputs": [],
   "source": [
    "import requests\n",
    "from pprint import pprint,pformat\n",
    "\n",
    "elucidate_base_url = 'http://localhost:8080/annotation'\n",
    "headers = {\n",
    "    'Accept':'application/ld+json; profile=\"http://www.w3.org/ns/anno.jsonld\"',\n",
    "    'Content-Type': 'application/ld+json; profile=\"http://www.w3.org/ns/anno.jsonld\"'\n",
    "}\n",
    "\n",
    "def get_etag(url:str)->str:\n",
    "    return requests.get(url).headers['etag'][3:-1]"
   ]
  },
  {
   "cell_type": "markdown",
   "metadata": {},
   "source": [
    "## create container"
   ]
  },
  {
   "cell_type": "code",
   "execution_count": 7,
   "metadata": {
    "scrolled": false
   },
   "outputs": [
    {
     "data": {
      "text/plain": [
       "'e7fd56f6-7dc8-442a-b18a-a9b4a71f36f1'"
      ]
     },
     "execution_count": 7,
     "metadata": {},
     "output_type": "execute_result"
    }
   ],
   "source": [
    "body = {\n",
    "  \"@context\": [\n",
    "    \"http://www.w3.org/ns/anno.jsonld\",\n",
    "    \"http://www.w3.org/ns/ldp.jsonld\"\n",
    "  ],\n",
    "  \"type\": [\n",
    "    \"BasicContainer\",\n",
    "    \"AnnotationCollection\"\n",
    "  ],\n",
    "  \"label\": \"A Container for Web Annotations\"\n",
    "}\n",
    "\n",
    "response = requests.post(url=elucidate_base_url+\"/w3c/\",headers=headers,json=body)\n",
    "container_uri = response.json()['id']\n",
    "\n",
    "response.status_code\n",
    "url =response.headers['location']\n",
    "url.split('/')[-2]"
   ]
  },
  {
   "cell_type": "markdown",
   "metadata": {},
   "source": [
    "## read container"
   ]
  },
  {
   "cell_type": "code",
   "execution_count": 3,
   "metadata": {
    "scrolled": true
   },
   "outputs": [
    {
     "data": {
      "text/plain": [
       "{'@context': ['http://www.w3.org/ns/anno.jsonld',\n",
       "  'http://www.w3.org/ns/ldp.jsonld'],\n",
       " 'id': 'http://localhost:8080/annotation/w3c/162b641a-04c7-43d1-8c98-c4e1a103b4fb/',\n",
       " 'type': 'AnnotationCollection',\n",
       " 'label': 'A Container for Web Annotations',\n",
       " 'first': {'type': 'AnnotationPage',\n",
       "  'as:items': {'@list': []},\n",
       "  'partOf': 'http://localhost:8080/annotation/w3c/162b641a-04c7-43d1-8c98-c4e1a103b4fb/',\n",
       "  'startIndex': 0},\n",
       " 'last': 'http://localhost:8080/annotation/w3c/162b641a-04c7-43d1-8c98-c4e1a103b4fb/?page=0&desc=1',\n",
       " 'total': 0}"
      ]
     },
     "execution_count": 3,
     "metadata": {},
     "output_type": "execute_result"
    }
   ],
   "source": [
    "requests.get(container_uri).json()"
   ]
  },
  {
   "cell_type": "markdown",
   "metadata": {},
   "source": [
    "## create annotation"
   ]
  },
  {
   "cell_type": "code",
   "execution_count": 4,
   "metadata": {},
   "outputs": [
    {
     "data": {
      "text/plain": [
       "201"
      ]
     },
     "execution_count": 4,
     "metadata": {},
     "output_type": "execute_result"
    }
   ],
   "source": [
    "annotation = {\n",
    "  \"@context\": \"http://www.w3.org/ns/anno.jsonld\",\n",
    "  \"type\": \"Annotation\",\n",
    "  \"body\": {\n",
    "    \"type\": \"TextualBody\",\n",
    "    \"value\": \"I like this page!\"\n",
    "  },\n",
    "  \"target\": \"http://www.example.com/index.html\"\n",
    "}\n",
    "\n",
    "response = requests.post(\n",
    "    url=container_uri,\n",
    "    headers=headers,\n",
    "    json=annotation)\n",
    "annotation_uri = response.json()['id']\n",
    "\n",
    "response.status_code"
   ]
  },
  {
   "cell_type": "markdown",
   "metadata": {},
   "source": [
    "response headers:"
   ]
  },
  {
   "cell_type": "code",
   "execution_count": 5,
   "metadata": {},
   "outputs": [
    {
     "name": "stdout",
     "output_type": "stream",
     "text": [
      "Allow = PUT,GET,OPTIONS,HEAD,DELETE\n",
      "Cache-Control = no-cache, no-store, max-age=0, must-revalidate\n",
      "Content-Type = application/ld+json; profile=\"http://www.w3.org/ns/anno.jsonld\";charset=UTF-8\n",
      "Date = Thu, 08 Apr 2021 14:15:16 GMT\n",
      "ETag = W/\"985759a998e93664698ced20228fda82\"\n",
      "Expires = 0\n",
      "Link = <http://www.w3.org/ns/ldp#Resource>; rel=\"type\"\n",
      "Location = http://localhost:8080/annotation/w3c/162b641a-04c7-43d1-8c98-c4e1a103b4fb/1ecc0f23-523d-4233-82f6-4a083c2f73a6\n",
      "Memento-Datetime = Thu, 08 Apr 2021 14:15:16 UTC\n",
      "Pragma = no-cache\n",
      "Transfer-Encoding = chunked\n",
      "Vary = Origin, Access-Control-Request-Method, Access-Control-Request-Headers, Accept\n",
      "X-Content-Type-Options = nosniff\n",
      "X-Frame-Options = DENY\n",
      "X-XSS-Protection = 1; mode=block\n"
     ]
    }
   ],
   "source": [
    "for (k,v) in sorted(response.headers.items()):\n",
    "    print(f\"{k} = {v}\")"
   ]
  },
  {
   "cell_type": "markdown",
   "metadata": {},
   "source": [
    "response body:"
   ]
  },
  {
   "cell_type": "code",
   "execution_count": 6,
   "metadata": {},
   "outputs": [
    {
     "data": {
      "text/plain": [
       "{'@context': 'http://www.w3.org/ns/anno.jsonld',\n",
       " 'id': 'http://localhost:8080/annotation/w3c/162b641a-04c7-43d1-8c98-c4e1a103b4fb/1ecc0f23-523d-4233-82f6-4a083c2f73a6',\n",
       " 'type': 'Annotation',\n",
       " 'body': {'type': 'TextualBody', 'value': 'I like this page!'},\n",
       " 'target': 'http://www.example.com/index.html'}"
      ]
     },
     "execution_count": 6,
     "metadata": {},
     "output_type": "execute_result"
    }
   ],
   "source": [
    "response.json()"
   ]
  },
  {
   "cell_type": "markdown",
   "metadata": {},
   "source": [
    "## read annotation\n",
    "\n",
    "- W3C :"
   ]
  },
  {
   "cell_type": "code",
   "execution_count": 7,
   "metadata": {
    "scrolled": false
   },
   "outputs": [
    {
     "name": "stdout",
     "output_type": "stream",
     "text": [
      "'http://localhost:8080/annotation/w3c/162b641a-04c7-43d1-8c98-c4e1a103b4fb/1ecc0f23-523d-4233-82f6-4a083c2f73a6'\n"
     ]
    },
    {
     "data": {
      "text/plain": [
       "{'@context': 'http://www.w3.org/ns/anno.jsonld',\n",
       " 'id': 'http://localhost:8080/annotation/w3c/162b641a-04c7-43d1-8c98-c4e1a103b4fb/1ecc0f23-523d-4233-82f6-4a083c2f73a6',\n",
       " 'type': 'Annotation',\n",
       " 'body': {'type': 'TextualBody', 'value': 'I like this page!'},\n",
       " 'target': 'http://www.example.com/index.html'}"
      ]
     },
     "execution_count": 7,
     "metadata": {},
     "output_type": "execute_result"
    }
   ],
   "source": [
    "pprint(annotation_uri)\n",
    "requests.get(annotation_uri).json()"
   ]
  },
  {
   "cell_type": "markdown",
   "metadata": {},
   "source": [
    "- OA :"
   ]
  },
  {
   "cell_type": "code",
   "execution_count": 8,
   "metadata": {
    "scrolled": false
   },
   "outputs": [
    {
     "name": "stdout",
     "output_type": "stream",
     "text": [
      "'http://localhost:8080/annotation/oa/162b641a-04c7-43d1-8c98-c4e1a103b4fb/1ecc0f23-523d-4233-82f6-4a083c2f73a6'\n"
     ]
    },
    {
     "data": {
      "text/plain": [
       "{'@context': 'https://raw.githubusercontent.com/dlcs/elucidate-server/master/elucidate-server/src/main/resources/contexts/oa.jsonld',\n",
       " '@id': 'http://localhost:8080/annotation/oa/162b641a-04c7-43d1-8c98-c4e1a103b4fb/1ecc0f23-523d-4233-82f6-4a083c2f73a6',\n",
       " '@type': 'oa:Annotation',\n",
       " 'hasBody': {'@type': 'oa:TextualBody', 'value': 'I like this page!'},\n",
       " 'hasTarget': 'http://www.example.com/index.html'}"
      ]
     },
     "execution_count": 8,
     "metadata": {},
     "output_type": "execute_result"
    }
   ],
   "source": [
    "oa_uri = annotation_uri.replace('/w3c/','/oa/')\n",
    "pprint(oa_uri)\n",
    "requests.get(oa_uri).json()"
   ]
  },
  {
   "cell_type": "markdown",
   "metadata": {},
   "source": [
    "## update annotation"
   ]
  },
  {
   "cell_type": "code",
   "execution_count": 9,
   "metadata": {
    "scrolled": true
   },
   "outputs": [
    {
     "data": {
      "text/plain": [
       "200"
      ]
     },
     "execution_count": 9,
     "metadata": {},
     "output_type": "execute_result"
    }
   ],
   "source": [
    "etag = get_etag(annotation_uri)\n",
    "new_annotation = {\n",
    "  \"@context\": \"http://www.w3.org/ns/anno.jsonld\",\n",
    "  \"id\": \"http://example.org/w3c/mycontainer/anno1\",\n",
    "  \"type\": \"Annotation\",\n",
    "  \"created\": \"2015-01-31T12:03:45Z\",\n",
    "  \"body\": {\n",
    "    \"type\": \"TextualBody\",\n",
    "    \"value\": \"I don't like this page!\"\n",
    "  },\n",
    "  \"target\": \"http://www.example.com/index.html\"\n",
    "}\n",
    "update_headers = {'If-Match':etag}\n",
    "update_headers.update(headers)\n",
    "response = requests.put(url=annotation_uri,headers=update_headers,json=new_annotation)\n",
    "\n",
    "response.status_code"
   ]
  },
  {
   "cell_type": "code",
   "execution_count": 10,
   "metadata": {
    "scrolled": true
   },
   "outputs": [
    {
     "data": {
      "text/plain": [
       "{'@context': 'http://www.w3.org/ns/anno.jsonld',\n",
       " 'id': 'http://localhost:8080/annotation/w3c/162b641a-04c7-43d1-8c98-c4e1a103b4fb/1ecc0f23-523d-4233-82f6-4a083c2f73a6',\n",
       " 'type': 'Annotation',\n",
       " 'created': '2015-01-31T12:03:45Z',\n",
       " 'body': {'type': 'TextualBody', 'value': \"I don't like this page!\"},\n",
       " 'target': 'http://www.example.com/index.html'}"
      ]
     },
     "execution_count": 10,
     "metadata": {},
     "output_type": "execute_result"
    }
   ],
   "source": [
    "requests.get(annotation_uri).json()"
   ]
  },
  {
   "cell_type": "code",
   "execution_count": 11,
   "metadata": {},
   "outputs": [
    {
     "name": "stdout",
     "output_type": "stream",
     "text": [
      "'http://localhost:8080/annotation/oa/162b641a-04c7-43d1-8c98-c4e1a103b4fb/1ecc0f23-523d-4233-82f6-4a083c2f73a6'\n"
     ]
    },
    {
     "data": {
      "text/plain": [
       "{'@context': 'https://raw.githubusercontent.com/dlcs/elucidate-server/master/elucidate-server/src/main/resources/contexts/oa.jsonld',\n",
       " '@id': 'http://localhost:8080/annotation/oa/162b641a-04c7-43d1-8c98-c4e1a103b4fb/1ecc0f23-523d-4233-82f6-4a083c2f73a6',\n",
       " '@type': 'oa:Annotation',\n",
       " 'annotatedAt': '2015-01-31T12:03:45Z',\n",
       " 'hasBody': {'@type': 'oa:TextualBody', 'value': \"I don't like this page!\"},\n",
       " 'hasTarget': 'http://www.example.com/index.html'}"
      ]
     },
     "execution_count": 11,
     "metadata": {},
     "output_type": "execute_result"
    }
   ],
   "source": [
    "oa_uri = annotation_uri.replace('w3c','oa')\n",
    "pprint(oa_uri)\n",
    "requests.get(oa_uri).json()"
   ]
  },
  {
   "cell_type": "markdown",
   "metadata": {},
   "source": [
    "## annotation history"
   ]
  },
  {
   "cell_type": "code",
   "execution_count": 12,
   "metadata": {},
   "outputs": [
    {
     "name": "stdout",
     "output_type": "stream",
     "text": [
      "Allow = PUT,GET,OPTIONS,HEAD,DELETE\n",
      "Cache-Control = no-cache, no-store, max-age=0, must-revalidate\n",
      "Content-Type = application/ld+json;charset=UTF-8\n",
      "Date = Thu, 08 Apr 2021 14:15:55 GMT\n",
      "ETag = W/\"4389921286a3eba7230ad281c34e896c\"\n",
      "Expires = 0\n",
      "Link = <http://www.w3.org/ns/ldp#Resource>; rel=\"type\", <http://localhost:8080/annotation/w3c/services/history/162b641a-04c7-43d1-8c98-c4e1a103b4fb/1ecc0f23-523d-4233-82f6-4a083c2f73a6/1>; rel=\"prev memento\"; datetime=\"Thu, 08 Apr 2021 14:15:16 UTC\"\n",
      "Memento-Datetime = Thu, 08 Apr 2021 14:15:42 UTC\n",
      "Pragma = no-cache\n",
      "Transfer-Encoding = chunked\n",
      "Vary = Origin, Access-Control-Request-Method, Access-Control-Request-Headers, Accept\n",
      "X-Content-Type-Options = nosniff\n",
      "X-Frame-Options = DENY\n",
      "X-XSS-Protection = 1; mode=block\n"
     ]
    }
   ],
   "source": [
    "response = requests.get(annotation_uri)\n",
    "for (k,v) in sorted(response.headers.items()):\n",
    "    print(f\"{k} = {v}\")"
   ]
  },
  {
   "cell_type": "code",
   "execution_count": 13,
   "metadata": {},
   "outputs": [
    {
     "data": {
      "text/plain": [
       "'<http://www.w3.org/ns/ldp#Resource>; rel=\"type\", <http://localhost:8080/annotation/w3c/services/history/162b641a-04c7-43d1-8c98-c4e1a103b4fb/1ecc0f23-523d-4233-82f6-4a083c2f73a6/1>; rel=\"prev memento\"; datetime=\"Thu, 08 Apr 2021 14:15:16 UTC\"'"
      ]
     },
     "execution_count": 13,
     "metadata": {},
     "output_type": "execute_result"
    }
   ],
   "source": [
    "response.headers['link']"
   ]
  },
  {
   "cell_type": "markdown",
   "metadata": {},
   "source": [
    "## delete annotation"
   ]
  },
  {
   "cell_type": "code",
   "execution_count": 14,
   "metadata": {
    "scrolled": true
   },
   "outputs": [
    {
     "data": {
      "text/plain": [
       "204"
      ]
     },
     "execution_count": 14,
     "metadata": {},
     "output_type": "execute_result"
    }
   ],
   "source": [
    "etag = get_etag(annotation_uri)\n",
    "delete_headers = {'If-Match':etag}\n",
    "delete_headers.update(headers)\n",
    "response = requests.delete(url=annotation_uri,headers=delete_headers)\n",
    "\n",
    "response.status_code"
   ]
  },
  {
   "cell_type": "code",
   "execution_count": 15,
   "metadata": {
    "scrolled": true
   },
   "outputs": [
    {
     "data": {
      "text/plain": [
       "410"
      ]
     },
     "execution_count": 15,
     "metadata": {},
     "output_type": "execute_result"
    }
   ],
   "source": [
    "requests.get(annotation_uri).status_code"
   ]
  },
  {
   "cell_type": "code",
   "execution_count": 16,
   "metadata": {},
   "outputs": [
    {
     "data": {
      "text/plain": [
       "404"
      ]
     },
     "execution_count": 16,
     "metadata": {},
     "output_type": "execute_result"
    }
   ],
   "source": [
    "response = requests.get(\"http://localhost:8080/annotation/w3c/services/history/9c153658-6748-4fbe-bd41-c72554e67571/d9dcece4-04a7-4b70-873f-f66cb9f3730e/1\")\n",
    "response.status_code"
   ]
  }
 ],
 "metadata": {
  "kernelspec": {
   "display_name": "Python 3",
   "language": "python",
   "name": "python3"
  },
  "language_info": {
   "codemirror_mode": {
    "name": "ipython",
    "version": 3
   },
   "file_extension": ".py",
   "mimetype": "text/x-python",
   "name": "python",
   "nbconvert_exporter": "python",
   "pygments_lexer": "ipython3",
   "version": "3.8.5"
  }
 },
 "nbformat": 4,
 "nbformat_minor": 2
}
