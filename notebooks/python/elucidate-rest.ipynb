{
 "cells": [
  {
   "cell_type": "markdown",
   "metadata": {},
   "source": [
    "## setup"
   ]
  },
  {
   "cell_type": "code",
   "execution_count": 1,
   "metadata": {},
   "outputs": [],
   "source": [
    "import requests\n",
    "from pprint import pprint,pformat\n",
    "\n",
    "elucidate_base_url = 'http://localhost:8080/annotation'\n",
    "headers = {\n",
    "    'Accept':'application/ld+json; profile=\"http://www.w3.org/ns/anno.jsonld\"',\n",
    "    'Content-Type': 'application/ld+json; profile=\"http://www.w3.org/ns/anno.jsonld\"'\n",
    "}\n",
    "\n",
    "def get_etag(url:str)->str:\n",
    "    return requests.get(url).headers['etag'][3:-1]"
   ]
  },
  {
   "cell_type": "markdown",
   "metadata": {},
   "source": [
    "## create container"
   ]
  },
  {
   "cell_type": "code",
   "execution_count": 2,
   "metadata": {
    "scrolled": false
   },
   "outputs": [
    {
     "data": {
      "text/plain": [
       "201"
      ]
     },
     "execution_count": 2,
     "metadata": {},
     "output_type": "execute_result"
    }
   ],
   "source": [
    "body = {\n",
    "  \"@context\": [\n",
    "    \"http://www.w3.org/ns/anno.jsonld\",\n",
    "    \"http://www.w3.org/ns/ldp.jsonld\"\n",
    "  ],\n",
    "  \"type\": [\n",
    "    \"BasicContainer\",\n",
    "    \"AnnotationCollection\"\n",
    "  ],\n",
    "  \"label\": \"A Container for Web Annotations\"\n",
    "}\n",
    "\n",
    "response = requests.post(url=elucidate_base_url+\"/w3c/\",headers=headers,json=body)\n",
    "container_uri = response.json()['id']\n",
    "\n",
    "response.status_code"
   ]
  },
  {
   "cell_type": "markdown",
   "metadata": {},
   "source": [
    "## read container"
   ]
  },
  {
   "cell_type": "code",
   "execution_count": 3,
   "metadata": {
    "scrolled": true
   },
   "outputs": [
    {
     "data": {
      "text/plain": [
       "{'@context': ['http://www.w3.org/ns/anno.jsonld',\n",
       "  'http://www.w3.org/ns/ldp.jsonld'],\n",
       " 'id': 'http://localhost:8080/annotation/w3c/93d51025-7e68-4e50-b55c-5426f3dc33e3/',\n",
       " 'type': 'AnnotationCollection',\n",
       " 'label': 'A Container for Web Annotations',\n",
       " 'first': {'type': 'AnnotationPage',\n",
       "  'as:items': {'@list': []},\n",
       "  'partOf': 'http://localhost:8080/annotation/w3c/93d51025-7e68-4e50-b55c-5426f3dc33e3/',\n",
       "  'startIndex': 0},\n",
       " 'last': 'http://localhost:8080/annotation/w3c/93d51025-7e68-4e50-b55c-5426f3dc33e3/?page=0&desc=1',\n",
       " 'total': 0}"
      ]
     },
     "execution_count": 3,
     "metadata": {},
     "output_type": "execute_result"
    }
   ],
   "source": [
    "requests.get(container_uri).json()"
   ]
  },
  {
   "cell_type": "markdown",
   "metadata": {},
   "source": [
    "## create annotation"
   ]
  },
  {
   "cell_type": "code",
   "execution_count": 4,
   "metadata": {},
   "outputs": [
    {
     "data": {
      "text/plain": [
       "201"
      ]
     },
     "execution_count": 4,
     "metadata": {},
     "output_type": "execute_result"
    }
   ],
   "source": [
    "annotation = {\n",
    "  \"@context\": \"http://www.w3.org/ns/anno.jsonld\",\n",
    "  \"type\": \"Annotation\",\n",
    "  \"body\": {\n",
    "    \"type\": \"TextualBody\",\n",
    "    \"value\": \"I like this page!\"\n",
    "  },\n",
    "  \"target\": \"http://www.example.com/index.html\"\n",
    "}\n",
    "\n",
    "response = requests.post(\n",
    "    url=container_uri,\n",
    "    headers=headers,\n",
    "    json=annotation)\n",
    "annotation_uri = response.json()['id']\n",
    "\n",
    "response.status_code"
   ]
  },
  {
   "cell_type": "markdown",
   "metadata": {},
   "source": [
    "## read annotation\n",
    "\n",
    "- W3C :"
   ]
  },
  {
   "cell_type": "code",
   "execution_count": 5,
   "metadata": {
    "scrolled": false
   },
   "outputs": [
    {
     "name": "stdout",
     "output_type": "stream",
     "text": [
      "'http://localhost:8080/annotation/w3c/93d51025-7e68-4e50-b55c-5426f3dc33e3/9e03358a-6c4b-440e-92e7-c40826e8e032'\n"
     ]
    },
    {
     "data": {
      "text/plain": [
       "{'@context': 'http://www.w3.org/ns/anno.jsonld',\n",
       " 'id': 'http://localhost:8080/annotation/w3c/93d51025-7e68-4e50-b55c-5426f3dc33e3/9e03358a-6c4b-440e-92e7-c40826e8e032',\n",
       " 'type': 'Annotation',\n",
       " 'body': {'type': 'TextualBody', 'value': 'I like this page!'},\n",
       " 'target': 'http://www.example.com/index.html'}"
      ]
     },
     "execution_count": 5,
     "metadata": {},
     "output_type": "execute_result"
    }
   ],
   "source": [
    "pprint(annotation_uri)\n",
    "requests.get(annotation_uri).json()"
   ]
  },
  {
   "cell_type": "markdown",
   "metadata": {},
   "source": [
    "- OA :"
   ]
  },
  {
   "cell_type": "code",
   "execution_count": 6,
   "metadata": {
    "scrolled": false
   },
   "outputs": [
    {
     "name": "stdout",
     "output_type": "stream",
     "text": [
      "'http://localhost:8080/annotation/oa/93d51025-7e68-4e50-b55c-5426f3dc33e3/9e03358a-6c4b-440e-92e7-c40826e8e032'\n"
     ]
    },
    {
     "data": {
      "text/plain": [
       "{'@context': 'https://raw.githubusercontent.com/dlcs/elucidate-server/master/elucidate-server/src/main/resources/contexts/oa.jsonld',\n",
       " '@id': 'http://localhost:8080/annotation/oa/93d51025-7e68-4e50-b55c-5426f3dc33e3/9e03358a-6c4b-440e-92e7-c40826e8e032',\n",
       " '@type': 'oa:Annotation',\n",
       " 'hasBody': {'@type': 'oa:TextualBody', 'value': 'I like this page!'},\n",
       " 'hasTarget': 'http://www.example.com/index.html'}"
      ]
     },
     "execution_count": 6,
     "metadata": {},
     "output_type": "execute_result"
    }
   ],
   "source": [
    "oa_uri = annotation_uri.replace('/w3c/','/oa/')\n",
    "pprint(oa_uri)\n",
    "requests.get(oa_uri).json()"
   ]
  },
  {
   "cell_type": "markdown",
   "metadata": {},
   "source": [
    "## update annotation"
   ]
  },
  {
   "cell_type": "code",
   "execution_count": 7,
   "metadata": {
    "scrolled": true
   },
   "outputs": [
    {
     "data": {
      "text/plain": [
       "200"
      ]
     },
     "execution_count": 7,
     "metadata": {},
     "output_type": "execute_result"
    }
   ],
   "source": [
    "etag = get_etag(annotation_uri)\n",
    "new_annotation = {\n",
    "  \"@context\": \"http://www.w3.org/ns/anno.jsonld\",\n",
    "  \"id\": \"http://example.org/w3c/mycontainer/anno1\",\n",
    "  \"type\": \"Annotation\",\n",
    "  \"created\": \"2015-01-31T12:03:45Z\",\n",
    "  \"body\": {\n",
    "    \"type\": \"TextualBody\",\n",
    "    \"value\": \"I don't like this page!\"\n",
    "  },\n",
    "  \"target\": \"http://www.example.com/index.html\"\n",
    "}\n",
    "update_headers = {'If-Match':etag}\n",
    "update_headers.update(headers)\n",
    "response = requests.put(url=annotation_uri,headers=update_headers,json=new_annotation)\n",
    "\n",
    "response.status_code"
   ]
  },
  {
   "cell_type": "code",
   "execution_count": 8,
   "metadata": {
    "scrolled": true
   },
   "outputs": [
    {
     "data": {
      "text/plain": [
       "{'@context': 'http://www.w3.org/ns/anno.jsonld',\n",
       " 'id': 'http://localhost:8080/annotation/w3c/93d51025-7e68-4e50-b55c-5426f3dc33e3/9e03358a-6c4b-440e-92e7-c40826e8e032',\n",
       " 'type': 'Annotation',\n",
       " 'created': '2015-01-31T12:03:45Z',\n",
       " 'body': {'type': 'TextualBody', 'value': \"I don't like this page!\"},\n",
       " 'target': 'http://www.example.com/index.html'}"
      ]
     },
     "execution_count": 8,
     "metadata": {},
     "output_type": "execute_result"
    }
   ],
   "source": [
    "requests.get(annotation_uri).json()"
   ]
  },
  {
   "cell_type": "code",
   "execution_count": 9,
   "metadata": {},
   "outputs": [
    {
     "name": "stdout",
     "output_type": "stream",
     "text": [
      "'http://localhost:8080/annotation/oa/93d51025-7e68-4e50-b55c-5426f3dc33e3/9e03358a-6c4b-440e-92e7-c40826e8e032'\n"
     ]
    },
    {
     "data": {
      "text/plain": [
       "{'@context': 'https://raw.githubusercontent.com/dlcs/elucidate-server/master/elucidate-server/src/main/resources/contexts/oa.jsonld',\n",
       " '@id': 'http://localhost:8080/annotation/oa/93d51025-7e68-4e50-b55c-5426f3dc33e3/9e03358a-6c4b-440e-92e7-c40826e8e032',\n",
       " '@type': 'oa:Annotation',\n",
       " 'annotatedAt': '2015-01-31T12:03:45Z',\n",
       " 'hasBody': {'@type': 'oa:TextualBody', 'value': \"I don't like this page!\"},\n",
       " 'hasTarget': 'http://www.example.com/index.html'}"
      ]
     },
     "execution_count": 9,
     "metadata": {},
     "output_type": "execute_result"
    }
   ],
   "source": [
    "oa_uri = annotation_uri.replace('w3c','oa')\n",
    "pprint(oa_uri)\n",
    "requests.get(oa_uri).json()"
   ]
  },
  {
   "cell_type": "markdown",
   "metadata": {},
   "source": [
    "## annotation history"
   ]
  },
  {
   "cell_type": "code",
   "execution_count": 17,
   "metadata": {},
   "outputs": [
    {
     "name": "stdout",
     "output_type": "stream",
     "text": [
      "ETag = W/\"b11bb656a4e1a7778950eea066dc8e2b\"\n",
      "Link = <http://www.w3.org/ns/ldp#Resource>; rel=\"type\", <http://localhost:8080/annotation/w3c/services/history/93d51025-7e68-4e50-b55c-5426f3dc33e3/9e03358a-6c4b-440e-92e7-c40826e8e032/1>; rel=\"prev memento\"; datetime=\"Thu, 18 Mar 2021 21:51:41 UTC\"\n",
      "Allow = PUT,GET,OPTIONS,HEAD,DELETE\n",
      "Vary = Accept\n",
      "Memento-Datetime = Thu, 18 Mar 2021 21:52:27 UTC\n",
      "X-Content-Type-Options = nosniff\n",
      "X-XSS-Protection = 1; mode=block\n",
      "Cache-Control = no-cache, no-store, max-age=0, must-revalidate\n",
      "Pragma = no-cache\n",
      "Expires = 0\n",
      "X-Frame-Options = DENY\n",
      "Content-Type = application/ld+json;charset=UTF-8\n",
      "Transfer-Encoding = chunked\n",
      "Date = Thu, 18 Mar 2021 21:55:29 GMT\n"
     ]
    }
   ],
   "source": [
    "response = requests.get(annotation_uri)\n",
    "for (k,v) in response.headers.items():\n",
    "    print(f\"{k} = {v}\")"
   ]
  },
  {
   "cell_type": "code",
   "execution_count": 21,
   "metadata": {},
   "outputs": [
    {
     "data": {
      "text/plain": [
       "'<http://www.w3.org/ns/ldp#Resource>; rel=\"type\", <http://localhost:8080/annotation/w3c/services/history/93d51025-7e68-4e50-b55c-5426f3dc33e3/9e03358a-6c4b-440e-92e7-c40826e8e032/1>; rel=\"prev memento\"; datetime=\"Thu, 18 Mar 2021 21:51:41 UTC\"'"
      ]
     },
     "execution_count": 21,
     "metadata": {},
     "output_type": "execute_result"
    }
   ],
   "source": [
    "response.headers['link']"
   ]
  },
  {
   "cell_type": "markdown",
   "metadata": {},
   "source": [
    "## delete annotation"
   ]
  },
  {
   "cell_type": "code",
   "execution_count": 22,
   "metadata": {
    "scrolled": true
   },
   "outputs": [
    {
     "data": {
      "text/plain": [
       "204"
      ]
     },
     "execution_count": 22,
     "metadata": {},
     "output_type": "execute_result"
    }
   ],
   "source": [
    "etag = get_etag(annotation_uri)\n",
    "delete_headers = {'If-Match':etag}\n",
    "delete_headers.update(headers)\n",
    "response = requests.delete(url=annotation_uri,headers=delete_headers)\n",
    "\n",
    "response.status_code"
   ]
  },
  {
   "cell_type": "code",
   "execution_count": 23,
   "metadata": {
    "scrolled": true
   },
   "outputs": [
    {
     "data": {
      "text/plain": [
       "410"
      ]
     },
     "execution_count": 23,
     "metadata": {},
     "output_type": "execute_result"
    }
   ],
   "source": [
    "requests.get(annotation_uri).status_code"
   ]
  }
 ],
 "metadata": {
  "kernelspec": {
   "display_name": "Python 3",
   "language": "python",
   "name": "python3"
  },
  "language_info": {
   "codemirror_mode": {
    "name": "ipython",
    "version": 3
   },
   "file_extension": ".py",
   "mimetype": "text/x-python",
   "name": "python",
   "nbconvert_exporter": "python",
   "pygments_lexer": "ipython3",
   "version": "3.8.5"
  }
 },
 "nbformat": 4,
 "nbformat_minor": 2
}
