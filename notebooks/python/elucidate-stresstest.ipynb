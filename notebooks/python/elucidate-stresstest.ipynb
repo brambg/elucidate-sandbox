{
 "cells": [
  {
   "cell_type": "markdown",
   "metadata": {},
   "source": [
    "## setup"
   ]
  },
  {
   "cell_type": "code",
   "execution_count": 1,
   "metadata": {},
   "outputs": [],
   "source": [
    "import requests\n",
    "from pprint import pprint,pformat\n",
    "\n",
    "elucidate_base_url = 'http://localhost:8080/annotation'\n",
    "headers = {\n",
    "    'Accept':'application/ld+json; profile=\"http://www.w3.org/ns/anno.jsonld\"',\n",
    "    'Content-Type': 'application/ld+json; profile=\"http://www.w3.org/ns/anno.jsonld\"'\n",
    "}\n",
    "body = {\n",
    "  \"@context\": [\n",
    "    \"http://www.w3.org/ns/anno.jsonld\",\n",
    "    \"http://www.w3.org/ns/ldp.jsonld\"\n",
    "  ],\n",
    "  \"type\": [\n",
    "    \"BasicContainer\",\n",
    "    \"AnnotationCollection\"\n",
    "  ],\n",
    "  \"label\": \"A Container with many Web Annotations\"\n",
    "}\n",
    "\n",
    "response = requests.post(url=elucidate_base_url+\"/w3c/\",headers=headers,json=body)\n",
    "container_uri = response.json()['id']"
   ]
  },
  {
   "cell_type": "markdown",
   "metadata": {},
   "source": [
    "## create annotations"
   ]
  },
  {
   "cell_type": "code",
   "execution_count": 5,
   "metadata": {},
   "outputs": [
    {
     "ename": "SyntaxError",
     "evalue": "invalid syntax (<unknown>, line 14)",
     "output_type": "error",
     "traceback": [
      "Traceback \u001b[0;36m(most recent call last)\u001b[0m:\n",
      "  File \u001b[1;32m\"/usr/lib/python3/dist-packages/IPython/core/interactiveshell.py\"\u001b[0m, line \u001b[1;32m3331\u001b[0m, in \u001b[1;35mrun_code\u001b[0m\n    exec(code_obj, self.user_global_ns, self.user_ns)\n",
      "  File \u001b[1;32m\"<ipython-input-5-47ff4f75159d>\"\u001b[0m, line \u001b[1;32m1\u001b[0m, in \u001b[1;35m<module>\u001b[0m\n    get_ipython().run_cell_magic('time', '', '\\nfor n in range(1000):\\n    annotation = {\\n      \"@context\": \"http://www.w3.org/ns/anno.jsonld\",\\n      \"type\": \"Annotation\",\\n      \"body\": {\\n        \"type\": \"TextualBody\",\\n        \"value\": f\"TestAnnotation{n}\"\\n      },\\n      \"target\": {\\n          \"id\": f\"http://www.example.com/index.html#{n}\",\\n          \"type\" : \"HomePageAnchor\"\\n    }\\n\\nresponse = requests.post(\\n    url=container_uri,\\n    headers=headers,\\n    json=annotation)\\n')\n",
      "  File \u001b[1;32m\"/usr/lib/python3/dist-packages/IPython/core/interactiveshell.py\"\u001b[0m, line \u001b[1;32m2362\u001b[0m, in \u001b[1;35mrun_cell_magic\u001b[0m\n    result = fn(*args, **kwargs)\n",
      "  File \u001b[1;32m\"<decorator-gen-61>\"\u001b[0m, line \u001b[1;32m2\u001b[0m, in \u001b[1;35mtime\u001b[0m\n",
      "  File \u001b[1;32m\"/usr/lib/python3/dist-packages/IPython/core/magic.py\"\u001b[0m, line \u001b[1;32m187\u001b[0m, in \u001b[1;35m<lambda>\u001b[0m\n    call = lambda f, *a, **k: f(*a, **k)\n",
      "  File \u001b[1;32m\"/usr/lib/python3/dist-packages/IPython/core/magics/execution.py\"\u001b[0m, line \u001b[1;32m1268\u001b[0m, in \u001b[1;35mtime\u001b[0m\n    expr_ast = self.shell.compile.ast_parse(expr)\n",
      "\u001b[0;36m  File \u001b[0;32m\"/usr/lib/python3/dist-packages/IPython/core/compilerop.py\"\u001b[0;36m, line \u001b[0;32m101\u001b[0;36m, in \u001b[0;35mast_parse\u001b[0;36m\u001b[0m\n\u001b[0;31m    return compile(source, filename, symbol, self.flags | PyCF_ONLY_AST, 1)\u001b[0m\n",
      "\u001b[0;36m  File \u001b[0;32m\"<unknown>\"\u001b[0;36m, line \u001b[0;32m14\u001b[0m\n\u001b[0;31m    response = requests.post(\u001b[0m\n\u001b[0m    ^\u001b[0m\n\u001b[0;31mSyntaxError\u001b[0m\u001b[0;31m:\u001b[0m invalid syntax\n"
     ]
    }
   ],
   "source": [
    "%%time\n",
    "\n",
    "for n in range(1000):\n",
    "    annotation = {\n",
    "      \"@context\": \"http://www.w3.org/ns/anno.jsonld\",\n",
    "      \"type\": \"Annotation\",\n",
    "      \"body\": {\n",
    "        \"type\": \"TextualBody\",\n",
    "        \"value\": f\"TestAnnotation{n}\"\n",
    "      },\n",
    "      \"target\": {\n",
    "          \"id\": f\"http://www.example.com/index.html#{n}\",\n",
    "          \"type\" : \"HomePageAnchor\"\n",
    "    }\n",
    "\n",
    "response = requests.post(\n",
    "    url=container_uri,\n",
    "    headers=headers,\n",
    "    json=annotation)\n"
   ]
  },
  {
   "cell_type": "code",
   "execution_count": null,
   "metadata": {
    "scrolled": false
   },
   "outputs": [],
   "source": [
    "requests.get(container_uri).json()"
   ]
  }
 ],
 "metadata": {
  "kernelspec": {
   "display_name": "Python 3",
   "language": "python",
   "name": "python3"
  },
  "language_info": {
   "codemirror_mode": {
    "name": "ipython",
    "version": 3
   },
   "file_extension": ".py",
   "mimetype": "text/x-python",
   "name": "python",
   "nbconvert_exporter": "python",
   "pygments_lexer": "ipython3",
   "version": "3.8.5"
  }
 },
 "nbformat": 4,
 "nbformat_minor": 2
}
