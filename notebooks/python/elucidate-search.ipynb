{
 "cells": [
  {
   "cell_type": "markdown",
   "metadata": {},
   "source": [
    "## setup"
   ]
  },
  {
   "cell_type": "code",
   "execution_count": 1,
   "metadata": {},
   "outputs": [],
   "source": [
    "import requests\n",
    "from pprint import pprint,pformat\n",
    "\n",
    "elucidate_base_url = 'http://localhost:8080/annotation'\n",
    "headers = {\n",
    "    'Accept':'application/ld+json; profile=\"http://www.w3.org/ns/anno.jsonld\"',\n",
    "    'Content-Type': 'application/ld+json; profile=\"http://www.w3.org/ns/anno.jsonld\"'\n",
    "}\n",
    "body = {\n",
    "  \"@context\": [\n",
    "    \"http://www.w3.org/ns/anno.jsonld\",\n",
    "    \"http://www.w3.org/ns/ldp.jsonld\"\n",
    "  ],\n",
    "  \"type\": [\n",
    "    \"BasicContainer\",\n",
    "    \"AnnotationCollection\"\n",
    "  ],\n",
    "  \"label\": \"Test Annotation Container\"\n",
    "}\n",
    "\n",
    "response = requests.post(url=elucidate_base_url+\"/w3c/\",headers=headers,json=body)\n",
    "container_uri = response.json()['id']"
   ]
  },
  {
   "cell_type": "markdown",
   "metadata": {},
   "source": [
    "## search by body id"
   ]
  },
  {
   "cell_type": "code",
   "execution_count": 2,
   "metadata": {},
   "outputs": [
    {
     "data": {
      "text/plain": [
       "201"
      ]
     },
     "execution_count": 2,
     "metadata": {},
     "output_type": "execute_result"
    }
   ],
   "source": [
    "annotation = {\n",
    "  \"@context\": \"http://www.w3.org/ns/anno.jsonld\",\n",
    "  \"type\": \"Annotation\",\n",
    "  \"body\": {\n",
    "    \"type\": \"Text\",\n",
    "    \"id\": \"https://textserver.example.org/text-31415/par1\"\n",
    "  },\n",
    "  \"target\": \"http://www.example.com/index.html\"\n",
    "}\n",
    "response = requests.post(url=container_uri,headers=headers,json=annotation)\n",
    "\n",
    "response.status_code"
   ]
  },
  {
   "cell_type": "code",
   "execution_count": 3,
   "metadata": {},
   "outputs": [
    {
     "data": {
      "text/plain": [
       "200"
      ]
     },
     "execution_count": 3,
     "metadata": {},
     "output_type": "execute_result"
    }
   ],
   "source": [
    "response = requests.get(\n",
    "    url=elucidate_base_url+\"/w3c/services/search/body\",\n",
    "    params={'fields':'id',\n",
    "            'value':'https://textserver.example.org'}\n",
    ")\n",
    "response.status_code"
   ]
  },
  {
   "cell_type": "code",
   "execution_count": 4,
   "metadata": {},
   "outputs": [
    {
     "data": {
      "text/plain": [
       "{'@context': ['http://www.w3.org/ns/anno.jsonld',\n",
       "  'http://www.w3.org/ns/ldp.jsonld'],\n",
       " 'id': 'http://localhost:8080/annotation/w3c/services/search/body?fields=id&value=https%3A%2F%2Ftextserver.example.org',\n",
       " 'type': 'AnnotationCollection',\n",
       " 'first': {'type': 'AnnotationPage',\n",
       "  'items': [{'id': 'http://localhost:8080/annotation/w3c/4a043590-5791-4963-88b7-3c61de33c163/21cc3030-0a25-48ed-9e74-591e247aeccf',\n",
       "    'type': 'Annotation',\n",
       "    'body': {'id': 'https://textserver.example.org/text-31415/par1',\n",
       "     'type': 'Text'},\n",
       "    'target': 'http://www.example.com/index.html'},\n",
       "   {'id': 'http://localhost:8080/annotation/w3c/4a043590-5791-4963-88b7-3c61de33c163/3bb67d66-7bba-4436-9cd1-693dea9bd7d4',\n",
       "    'type': 'Annotation',\n",
       "    'creator': {'id': 'http://example.org/user1',\n",
       "     'type': 'Person',\n",
       "     'name': 'A. Person',\n",
       "     'nickname': 'user1'},\n",
       "    'body': {'id': 'https://textserver.example.org/text-31415/par2',\n",
       "     'type': 'Text'},\n",
       "    'target': 'http://www.example.com/index.html'},\n",
       "   {'id': 'http://localhost:8080/annotation/w3c/7a905e62-3f2c-481f-a303-1fb3a0491786/401c27db-b1ee-4428-bfc4-4f7cce1facf6',\n",
       "    'type': 'Annotation',\n",
       "    'creator': {'id': 'http://example.org/user1',\n",
       "     'type': 'Person',\n",
       "     'name': 'A. Person',\n",
       "     'nickname': 'user1'},\n",
       "    'body': {'id': 'https://textserver.example.org/text-31415/par2',\n",
       "     'type': 'Text'},\n",
       "    'target': 'http://www.example.com/index.html'},\n",
       "   {'id': 'http://localhost:8080/annotation/w3c/7a905e62-3f2c-481f-a303-1fb3a0491786/949f403d-303b-4d34-ac40-4bbf65a112ef',\n",
       "    'type': 'Annotation',\n",
       "    'body': {'id': 'https://textserver.example.org/text-31415/par1',\n",
       "     'type': 'Text'},\n",
       "    'target': 'http://www.example.com/index.html'},\n",
       "   {'id': 'http://localhost:8080/annotation/w3c/77494602-1145-46f2-9f23-a88e9bc19ddf/b15fae5d-fb14-4fb4-a2c7-bccbacc5ee86',\n",
       "    'type': 'Annotation',\n",
       "    'body': {'id': 'https://textserver.example.org/text-31415/par1',\n",
       "     'type': 'Text'},\n",
       "    'target': 'http://www.example.com/index.html'},\n",
       "   {'id': 'http://localhost:8080/annotation/w3c/77494602-1145-46f2-9f23-a88e9bc19ddf/dbc906a6-ae7d-4623-abb5-708f14fc4410',\n",
       "    'type': 'Annotation',\n",
       "    'creator': {'id': 'http://example.org/user1',\n",
       "     'type': 'Person',\n",
       "     'name': 'A. Person',\n",
       "     'nickname': 'user1'},\n",
       "    'body': {'id': 'https://textserver.example.org/text-31415/par2',\n",
       "     'type': 'Text'},\n",
       "    'target': 'http://www.example.com/index.html'},\n",
       "   {'id': 'http://localhost:8080/annotation/w3c/3f7fc5d8-f76d-4604-a2c8-23530142ad35/dd0ecc5a-0c9e-49d0-9be1-ff4c926bb7bd',\n",
       "    'type': 'Annotation',\n",
       "    'body': {'id': 'https://textserver.example.org/text-31415/par1',\n",
       "     'type': 'Text'},\n",
       "    'target': 'http://www.example.com/index.html'},\n",
       "   {'id': 'http://localhost:8080/annotation/w3c/3acfa19a-e6d0-46a6-a46e-6a199f04b726/ebf1faae-5529-43fe-aa33-13a3f3a83383',\n",
       "    'type': 'Annotation',\n",
       "    'body': {'id': 'https://textserver.example.org/text-31415/par1',\n",
       "     'type': 'Text'},\n",
       "    'target': 'http://www.example.com/index.html'}],\n",
       "  'partOf': 'http://localhost:8080/annotation/w3c/services/search/body?fields=id&value=https%3A%2F%2Ftextserver.example.org',\n",
       "  'startIndex': 0},\n",
       " 'last': 'http://localhost:8080/annotation/w3c/services/search/body?page=0&fields=id&value=https%3A%2F%2Ftextserver.example.org&desc=1',\n",
       " 'total': 8}"
      ]
     },
     "execution_count": 4,
     "metadata": {},
     "output_type": "execute_result"
    }
   ],
   "source": [
    "response.json()"
   ]
  },
  {
   "cell_type": "markdown",
   "metadata": {},
   "source": [
    "## search by body source"
   ]
  },
  {
   "cell_type": "code",
   "execution_count": 5,
   "metadata": {},
   "outputs": [
    {
     "data": {
      "text/plain": [
       "201"
      ]
     },
     "execution_count": 5,
     "metadata": {},
     "output_type": "execute_result"
    }
   ],
   "source": [
    "annotation = {\n",
    "  \"@context\": \"http://www.w3.org/ns/anno.jsonld\",\n",
    "  \"type\": \"Annotation\",\n",
    "  \"body\": {\n",
    "    \"source\": \"http://example.org/page1\",\n",
    "    \"selector\": \"http://example.org/paraselector1\"\n",
    "  },\n",
    "  \"target\": {\n",
    "    \"source\": \"http://example.com/dataset1\",\n",
    "    \"selector\": \"http://example.org/dataselector1\"\n",
    "  }\n",
    "}\n",
    "response = requests.post(url=container_uri,headers=headers,json=annotation)\n",
    "\n",
    "response.status_code"
   ]
  },
  {
   "cell_type": "code",
   "execution_count": 6,
   "metadata": {},
   "outputs": [
    {
     "data": {
      "text/plain": [
       "200"
      ]
     },
     "execution_count": 6,
     "metadata": {},
     "output_type": "execute_result"
    }
   ],
   "source": [
    "response = requests.get(\n",
    "    url=elucidate_base_url+\"/w3c/services/search/body\",\n",
    "    params={'fields':'source',\n",
    "            'value':'http://example.org'}\n",
    ")\n",
    "response.status_code"
   ]
  },
  {
   "cell_type": "code",
   "execution_count": 7,
   "metadata": {
    "scrolled": false
   },
   "outputs": [
    {
     "data": {
      "text/plain": [
       "{'@context': ['http://www.w3.org/ns/anno.jsonld',\n",
       "  'http://www.w3.org/ns/ldp.jsonld'],\n",
       " 'id': 'http://localhost:8080/annotation/w3c/services/search/body?fields=source&value=http%3A%2F%2Fexample.org',\n",
       " 'type': 'AnnotationCollection',\n",
       " 'first': {'type': 'AnnotationPage',\n",
       "  'items': [{'id': 'http://localhost:8080/annotation/w3c/7a905e62-3f2c-481f-a303-1fb3a0491786/024c64f0-fc90-4082-963a-1e02c49bad7c',\n",
       "    'type': 'Annotation',\n",
       "    'body': {'selector': 'http://example.org/paraselector1',\n",
       "     'source': 'http://example.org/page1'},\n",
       "    'target': {'selector': 'http://example.org/dataselector1',\n",
       "     'source': 'http://example.com/dataset1'}},\n",
       "   {'id': 'http://localhost:8080/annotation/w3c/4a043590-5791-4963-88b7-3c61de33c163/15ca1f62-9783-4068-b10b-1f0c2554d1c6',\n",
       "    'type': 'Annotation',\n",
       "    'body': {'type': 'SpecificResource',\n",
       "     'purpose': 'tagging',\n",
       "     'source': 'http://example.org/city1'},\n",
       "    'target': {'id': 'http://example.org/photo1', 'type': 'Image'}},\n",
       "   {'id': 'http://localhost:8080/annotation/w3c/4a043590-5791-4963-88b7-3c61de33c163/4f19266a-e261-48b4-8d59-51d51cf4e9cb',\n",
       "    'type': 'Annotation',\n",
       "    'body': {'selector': 'http://example.org/paraselector1',\n",
       "     'source': 'http://example.org/page1'},\n",
       "    'target': {'selector': 'http://example.org/dataselector1',\n",
       "     'source': 'http://example.com/dataset1'}},\n",
       "   {'id': 'http://localhost:8080/annotation/w3c/3acfa19a-e6d0-46a6-a46e-6a199f04b726/66d07b02-8615-45a4-b991-ae894743b80f',\n",
       "    'type': 'Annotation',\n",
       "    'body': {'selector': 'http://example.org/paraselector1',\n",
       "     'source': 'http://example.org/page1'},\n",
       "    'target': {'selector': 'http://example.org/dataselector1',\n",
       "     'source': 'http://example.com/dataset1'}},\n",
       "   {'id': 'http://localhost:8080/annotation/w3c/3acfa19a-e6d0-46a6-a46e-6a199f04b726/74d57dad-c5b2-4278-99a9-2b610b1a7782',\n",
       "    'type': 'Annotation',\n",
       "    'body': {'selector': 'http://example.org/paraselector1',\n",
       "     'source': 'http://example.org/page1'},\n",
       "    'target': {'selector': 'http://example.org/dataselector1',\n",
       "     'source': 'http://example.com/dataset1'}},\n",
       "   {'id': 'http://localhost:8080/annotation/w3c/3f7fc5d8-f76d-4604-a2c8-23530142ad35/7a2eaebc-98f9-4fca-99a5-84da89060d26',\n",
       "    'type': 'Annotation',\n",
       "    'body': {'selector': 'http://example.org/paraselector1',\n",
       "     'source': 'http://example.org/page1'},\n",
       "    'target': {'selector': 'http://example.org/dataselector1',\n",
       "     'source': 'http://example.com/dataset1'}},\n",
       "   {'id': 'http://localhost:8080/annotation/w3c/7a905e62-3f2c-481f-a303-1fb3a0491786/7c2fa3b6-b65c-406a-9eca-5d3bb22a189d',\n",
       "    'type': 'Annotation',\n",
       "    'body': {'type': 'SpecificResource',\n",
       "     'purpose': 'tagging',\n",
       "     'source': 'http://example.org/city1'},\n",
       "    'target': {'id': 'http://example.org/photo1', 'type': 'Image'}},\n",
       "   {'id': 'http://localhost:8080/annotation/w3c/77494602-1145-46f2-9f23-a88e9bc19ddf/7d87dbd6-a0cc-4869-8030-923ff489da72',\n",
       "    'type': 'Annotation',\n",
       "    'body': {'selector': 'http://example.org/paraselector1',\n",
       "     'source': 'http://example.org/page1'},\n",
       "    'target': {'selector': 'http://example.org/dataselector1',\n",
       "     'source': 'http://example.com/dataset1'}},\n",
       "   {'id': 'http://localhost:8080/annotation/w3c/7a905e62-3f2c-481f-a303-1fb3a0491786/959a5888-6453-489a-9951-7560096964d1',\n",
       "    'type': 'Annotation',\n",
       "    'body': {'selector': 'http://example.org/paraselector1',\n",
       "     'source': 'http://example.org/page1'},\n",
       "    'target': {'selector': 'http://example.org/dataselector1',\n",
       "     'source': 'http://example.com/dataset1'}},\n",
       "   {'id': 'http://localhost:8080/annotation/w3c/4a043590-5791-4963-88b7-3c61de33c163/a3be7176-3e0d-4f86-b601-bf2ee0fd31aa',\n",
       "    'type': 'Annotation',\n",
       "    'body': {'selector': 'http://example.org/paraselector1',\n",
       "     'source': 'http://example.org/page1'},\n",
       "    'target': {'selector': 'http://example.org/dataselector1',\n",
       "     'source': 'http://example.com/dataset1'}},\n",
       "   {'id': 'http://localhost:8080/annotation/w3c/77494602-1145-46f2-9f23-a88e9bc19ddf/a63f36de-4df2-4fa4-98e6-5050ac85c8c6',\n",
       "    'type': 'Annotation',\n",
       "    'body': {'selector': 'http://example.org/paraselector1',\n",
       "     'source': 'http://example.org/page1'},\n",
       "    'target': {'selector': 'http://example.org/dataselector1',\n",
       "     'source': 'http://example.com/dataset1'}},\n",
       "   {'id': 'http://localhost:8080/annotation/w3c/77494602-1145-46f2-9f23-a88e9bc19ddf/a85e6185-e119-4060-9dcf-626b1f7eb060',\n",
       "    'type': 'Annotation',\n",
       "    'body': {'type': 'SpecificResource',\n",
       "     'purpose': 'tagging',\n",
       "     'source': 'http://example.org/city1'},\n",
       "    'target': {'id': 'http://example.org/photo1', 'type': 'Image'}},\n",
       "   {'id': 'http://localhost:8080/annotation/w3c/3acfa19a-e6d0-46a6-a46e-6a199f04b726/cf94672d-ea2f-4a77-8948-a664e4321cc8',\n",
       "    'type': 'Annotation',\n",
       "    'body': {'type': 'SpecificResource',\n",
       "     'purpose': 'tagging',\n",
       "     'source': 'http://example.org/city1'},\n",
       "    'target': {'id': 'http://example.org/photo1', 'type': 'Image'}}],\n",
       "  'partOf': 'http://localhost:8080/annotation/w3c/services/search/body?fields=source&value=http%3A%2F%2Fexample.org',\n",
       "  'startIndex': 0},\n",
       " 'last': 'http://localhost:8080/annotation/w3c/services/search/body?page=0&fields=source&value=http%3A%2F%2Fexample.org&desc=1',\n",
       " 'total': 13}"
      ]
     },
     "execution_count": 7,
     "metadata": {},
     "output_type": "execute_result"
    }
   ],
   "source": [
    "response.json()"
   ]
  },
  {
   "cell_type": "markdown",
   "metadata": {},
   "source": [
    "## search by target id"
   ]
  },
  {
   "cell_type": "code",
   "execution_count": 8,
   "metadata": {},
   "outputs": [
    {
     "data": {
      "text/plain": [
       "201"
      ]
     },
     "execution_count": 8,
     "metadata": {},
     "output_type": "execute_result"
    }
   ],
   "source": [
    "annotation = {\n",
    "  \"@context\": \"http://www.w3.org/ns/anno.jsonld\",\n",
    "  \"type\": \"Annotation\",\n",
    "  \"body\": {\n",
    "    \"type\": \"SpecificResource\",\n",
    "    \"purpose\": \"tagging\",\n",
    "    \"source\": \"http://example.org/city1\"\n",
    "  },\n",
    "  \"target\": {\n",
    "    \"id\": \"http://example.org/photo1\",\n",
    "    \"type\": \"Image\"\n",
    "  }\n",
    "}\n",
    "response = requests.post(url=container_uri,headers=headers,json=annotation)\n",
    "\n",
    "response.status_code"
   ]
  },
  {
   "cell_type": "code",
   "execution_count": 9,
   "metadata": {},
   "outputs": [
    {
     "data": {
      "text/plain": [
       "200"
      ]
     },
     "execution_count": 9,
     "metadata": {},
     "output_type": "execute_result"
    }
   ],
   "source": [
    "response = requests.get(\n",
    "    url=elucidate_base_url+\"/w3c/services/search/target\",\n",
    "    params={'fields':'id',\n",
    "            'value':'http://example.org/photo1'}\n",
    ")\n",
    "response.status_code"
   ]
  },
  {
   "cell_type": "code",
   "execution_count": 10,
   "metadata": {},
   "outputs": [
    {
     "data": {
      "text/plain": [
       "{'@context': ['http://www.w3.org/ns/anno.jsonld',\n",
       "  'http://www.w3.org/ns/ldp.jsonld'],\n",
       " 'id': 'http://localhost:8080/annotation/w3c/services/search/target?fields=id&value=http%3A%2F%2Fexample.org%2Fphoto1',\n",
       " 'type': 'AnnotationCollection',\n",
       " 'first': {'type': 'AnnotationPage',\n",
       "  'items': [{'id': 'http://localhost:8080/annotation/w3c/4a043590-5791-4963-88b7-3c61de33c163/15ca1f62-9783-4068-b10b-1f0c2554d1c6',\n",
       "    'type': 'Annotation',\n",
       "    'body': {'type': 'SpecificResource',\n",
       "     'purpose': 'tagging',\n",
       "     'source': 'http://example.org/city1'},\n",
       "    'target': {'id': 'http://example.org/photo1', 'type': 'Image'}},\n",
       "   {'id': 'http://localhost:8080/annotation/w3c/7a905e62-3f2c-481f-a303-1fb3a0491786/7c2fa3b6-b65c-406a-9eca-5d3bb22a189d',\n",
       "    'type': 'Annotation',\n",
       "    'body': {'type': 'SpecificResource',\n",
       "     'purpose': 'tagging',\n",
       "     'source': 'http://example.org/city1'},\n",
       "    'target': {'id': 'http://example.org/photo1', 'type': 'Image'}},\n",
       "   {'id': 'http://localhost:8080/annotation/w3c/3f7fc5d8-f76d-4604-a2c8-23530142ad35/8f4d933f-94c1-4d1e-af03-767739649f4b',\n",
       "    'type': 'Annotation',\n",
       "    'body': {'type': 'SpecificResource',\n",
       "     'purpose': 'tagging',\n",
       "     'source': 'http://example.org/city1'},\n",
       "    'target': {'id': 'http://example.org/photo1', 'type': 'Image'}},\n",
       "   {'id': 'http://localhost:8080/annotation/w3c/77494602-1145-46f2-9f23-a88e9bc19ddf/a85e6185-e119-4060-9dcf-626b1f7eb060',\n",
       "    'type': 'Annotation',\n",
       "    'body': {'type': 'SpecificResource',\n",
       "     'purpose': 'tagging',\n",
       "     'source': 'http://example.org/city1'},\n",
       "    'target': {'id': 'http://example.org/photo1', 'type': 'Image'}},\n",
       "   {'id': 'http://localhost:8080/annotation/w3c/3acfa19a-e6d0-46a6-a46e-6a199f04b726/cf94672d-ea2f-4a77-8948-a664e4321cc8',\n",
       "    'type': 'Annotation',\n",
       "    'body': {'type': 'SpecificResource',\n",
       "     'purpose': 'tagging',\n",
       "     'source': 'http://example.org/city1'},\n",
       "    'target': {'id': 'http://example.org/photo1', 'type': 'Image'}}],\n",
       "  'partOf': 'http://localhost:8080/annotation/w3c/services/search/target?fields=id&value=http%3A%2F%2Fexample.org%2Fphoto1',\n",
       "  'startIndex': 0},\n",
       " 'last': 'http://localhost:8080/annotation/w3c/services/search/target?page=0&fields=id&value=http%3A%2F%2Fexample.org%2Fphoto1&desc=1',\n",
       " 'total': 5}"
      ]
     },
     "execution_count": 10,
     "metadata": {},
     "output_type": "execute_result"
    }
   ],
   "source": [
    "response.json()"
   ]
  },
  {
   "cell_type": "markdown",
   "metadata": {},
   "source": [
    "## search by target source"
   ]
  },
  {
   "cell_type": "code",
   "execution_count": null,
   "metadata": {},
   "outputs": [],
   "source": [
    "annotation = {\n",
    "  \"@context\": \"http://www.w3.org/ns/anno.jsonld\",\n",
    "  \"type\": \"Annotation\",\n",
    "  \"body\": {\n",
    "    \"source\": \"http://example.org/page1\",\n",
    "    \"selector\": \"http://example.org/paraselector1\"\n",
    "  },\n",
    "  \"target\": {\n",
    "    \"source\": \"http://example.com/dataset1\",\n",
    "    \"selector\": \"http://example.org/dataselector1\"\n",
    "  }\n",
    "}\n",
    "response = requests.post(url=container_uri,headers=headers,json=annotation)\n",
    "\n",
    "response.status_code"
   ]
  },
  {
   "cell_type": "code",
   "execution_count": null,
   "metadata": {},
   "outputs": [],
   "source": [
    "response = requests.get(\n",
    "    url=elucidate_base_url+\"/w3c/services/search/target\",\n",
    "    params={'fields':'source',\n",
    "            'value':'http://example.com/'}\n",
    ")\n",
    "response.status_code"
   ]
  },
  {
   "cell_type": "code",
   "execution_count": null,
   "metadata": {},
   "outputs": [],
   "source": [
    "response.json()"
   ]
  },
  {
   "cell_type": "markdown",
   "metadata": {},
   "source": [
    "## search by annotation creator"
   ]
  },
  {
   "cell_type": "code",
   "execution_count": 11,
   "metadata": {},
   "outputs": [
    {
     "data": {
      "text/plain": [
       "201"
      ]
     },
     "execution_count": 11,
     "metadata": {},
     "output_type": "execute_result"
    }
   ],
   "source": [
    "annotation = {\n",
    "  \"@context\": \"http://www.w3.org/ns/anno.jsonld\",\n",
    "  \"type\": \"Annotation\",\n",
    "  \"creator\": {\n",
    "    \"id\": \"http://example.org/user1\",\n",
    "    \"type\": \"Person\",\n",
    "    \"name\": \"A. Person\",\n",
    "    \"nickname\": \"user1\"\n",
    "  },\n",
    "  \"body\": {\n",
    "    \"type\": \"Text\",\n",
    "    \"id\": \"https://textserver.example.org/text-31415/par2\"\n",
    "  },\n",
    "  \"target\": \"http://www.example.com/index.html\"\n",
    "}\n",
    "response = requests.post(url=container_uri,headers=headers,json=annotation)\n",
    "\n",
    "response.status_code"
   ]
  },
  {
   "cell_type": "code",
   "execution_count": 12,
   "metadata": {},
   "outputs": [
    {
     "data": {
      "text/plain": [
       "200"
      ]
     },
     "execution_count": 12,
     "metadata": {},
     "output_type": "execute_result"
    }
   ],
   "source": [
    "response = requests.get(\n",
    "    url=elucidate_base_url+\"/w3c/services/search/creator\",\n",
    "    params={'levels':'annotation',\n",
    "            'type':'id',\n",
    "            'value':'http://example.org'}\n",
    ")\n",
    "response.status_code"
   ]
  },
  {
   "cell_type": "code",
   "execution_count": 13,
   "metadata": {},
   "outputs": [
    {
     "data": {
      "text/plain": [
       "{'@context': ['http://www.w3.org/ns/anno.jsonld',\n",
       "  'http://www.w3.org/ns/ldp.jsonld'],\n",
       " 'id': 'http://localhost:8080/annotation/w3c/services/search/creator?type=id&value=http%3A%2F%2Fexample.org&levels=annotation',\n",
       " 'type': 'AnnotationCollection',\n",
       " 'first': {'type': 'AnnotationPage',\n",
       "  'items': [{'id': 'http://localhost:8080/annotation/w3c/4a043590-5791-4963-88b7-3c61de33c163/3bb67d66-7bba-4436-9cd1-693dea9bd7d4',\n",
       "    'type': 'Annotation',\n",
       "    'creator': {'id': 'http://example.org/user1',\n",
       "     'type': 'Person',\n",
       "     'name': 'A. Person',\n",
       "     'nickname': 'user1'},\n",
       "    'body': {'id': 'https://textserver.example.org/text-31415/par2',\n",
       "     'type': 'Text'},\n",
       "    'target': 'http://www.example.com/index.html'},\n",
       "   {'id': 'http://localhost:8080/annotation/w3c/7a905e62-3f2c-481f-a303-1fb3a0491786/401c27db-b1ee-4428-bfc4-4f7cce1facf6',\n",
       "    'type': 'Annotation',\n",
       "    'creator': {'id': 'http://example.org/user1',\n",
       "     'type': 'Person',\n",
       "     'name': 'A. Person',\n",
       "     'nickname': 'user1'},\n",
       "    'body': {'id': 'https://textserver.example.org/text-31415/par2',\n",
       "     'type': 'Text'},\n",
       "    'target': 'http://www.example.com/index.html'},\n",
       "   {'id': 'http://localhost:8080/annotation/w3c/77494602-1145-46f2-9f23-a88e9bc19ddf/b023bdee-8eb4-4739-89cf-62a0f7f0f0ee',\n",
       "    'type': 'Annotation',\n",
       "    'created': '2015-10-13T13:00:00Z',\n",
       "    'creator': {'id': 'http://example.org/user1',\n",
       "     'type': 'Person',\n",
       "     'name': 'A. Person',\n",
       "     'nickname': 'user1'},\n",
       "    'generated': '2015-10-14T15:13:28Z',\n",
       "    'generator': {'id': 'http://example.org/client1',\n",
       "     'type': 'Software',\n",
       "     'homepage': 'http://example.org/homepage1',\n",
       "     'name': 'Code v2.1'},\n",
       "    'body': [{'type': 'TextualBody', 'value': 'love', 'purpose': 'tagging'},\n",
       "     {'type': 'Choice',\n",
       "      'items': [{'type': 'TextualBody',\n",
       "        'format': 'text/plain',\n",
       "        'language': 'en',\n",
       "        'creator': 'http://example.org/user1',\n",
       "        'value': 'I really love this particular bit of text in this XML. No really.',\n",
       "        'purpose': 'describing'},\n",
       "       {'type': 'SpecificResource',\n",
       "        'purpose': 'describing',\n",
       "        'source': {'id': 'http://example.org/comment1',\n",
       "         'type': 'Audio',\n",
       "         'format': 'audio/mpeg',\n",
       "         'language': 'de',\n",
       "         'creator': {'id': 'http://example.org/user2', 'type': 'Person'}}}]}],\n",
       "    'target': {'type': 'SpecificResource',\n",
       "     'selector': {'type': 'FragmentSelector',\n",
       "      'value': 'xpointer(/doc/body/section[2]/para[1])',\n",
       "      'refinedBy': {'type': 'TextPositionSelector', 'end': 27, 'start': 6}},\n",
       "     'source': 'http://example.com/document1',\n",
       "     'state': {'type': 'HttpRequestState',\n",
       "      'value': 'Accept: application/xml',\n",
       "      'refinedBy': {'type': 'TimeState',\n",
       "       'sourceDate': '2015-09-25T12:00:00Z'}},\n",
       "     'styleClass': 'mystyle'},\n",
       "    'motivation': 'commenting',\n",
       "    'stylesheet': {'id': 'http://example.org/stylesheet1',\n",
       "     'type': 'CssStylesheet'},\n",
       "    'via': 'http://example.org/anno38'},\n",
       "   {'id': 'http://localhost:8080/annotation/w3c/a8d73fbe-ab3b-41c3-8e12-9f924d8429b9/b54e2f2b-71b2-4f4e-8087-8e82af42097f',\n",
       "    'type': 'Annotation',\n",
       "    'created': '2015-10-13T13:00:00Z',\n",
       "    'creator': {'id': 'http://example.org/user1',\n",
       "     'type': 'Person',\n",
       "     'name': 'A. Person',\n",
       "     'nickname': 'user1'},\n",
       "    'generated': '2015-10-14T15:13:28Z',\n",
       "    'generator': {'id': 'http://example.org/client1',\n",
       "     'type': 'Software',\n",
       "     'homepage': 'http://example.org/homepage1',\n",
       "     'name': 'Code v2.1'},\n",
       "    'body': [{'type': 'TextualBody', 'value': 'love', 'purpose': 'tagging'},\n",
       "     {'type': 'Choice',\n",
       "      'items': [{'type': 'TextualBody',\n",
       "        'format': 'text/plain',\n",
       "        'language': 'en',\n",
       "        'creator': 'http://example.org/user1',\n",
       "        'value': 'I really love this particular bit of text in this XML. No really.',\n",
       "        'purpose': 'describing'},\n",
       "       {'type': 'SpecificResource',\n",
       "        'purpose': 'describing',\n",
       "        'source': {'id': 'http://example.org/comment1',\n",
       "         'type': 'Audio',\n",
       "         'format': 'audio/mpeg',\n",
       "         'language': 'de',\n",
       "         'creator': {'id': 'http://example.org/user2', 'type': 'Person'}}}]}],\n",
       "    'target': {'type': 'SpecificResource',\n",
       "     'selector': {'type': 'FragmentSelector',\n",
       "      'value': 'xpointer(/doc/body/section[2]/para[1])',\n",
       "      'refinedBy': {'type': 'TextPositionSelector', 'end': 27, 'start': 6}},\n",
       "     'source': 'http://example.com/document1',\n",
       "     'state': {'type': 'HttpRequestState',\n",
       "      'value': 'Accept: application/xml',\n",
       "      'refinedBy': {'type': 'TimeState',\n",
       "       'sourceDate': '2015-09-25T12:00:00Z'}},\n",
       "     'styleClass': 'mystyle'},\n",
       "    'motivation': 'commenting',\n",
       "    'stylesheet': {'id': 'http://example.org/stylesheet1',\n",
       "     'type': 'CssStylesheet'},\n",
       "    'via': 'http://example.org/anno38'},\n",
       "   {'id': 'http://localhost:8080/annotation/w3c/0cd9d849-2b70-44f1-8a93-b5fb6c664c21/c4457144-9c98-4ef7-b689-57cfba647338',\n",
       "    'type': 'Annotation',\n",
       "    'created': '2015-10-13T13:00:00Z',\n",
       "    'creator': {'id': 'http://example.org/user1',\n",
       "     'type': 'Person',\n",
       "     'name': 'A. Person',\n",
       "     'nickname': 'user1'},\n",
       "    'generated': '2015-10-14T15:13:28Z',\n",
       "    'generator': {'id': 'http://example.org/client1',\n",
       "     'type': 'Software',\n",
       "     'homepage': 'http://example.org/homepage1',\n",
       "     'name': 'Code v2.1'},\n",
       "    'body': [{'type': 'TextualBody', 'value': 'love', 'purpose': 'tagging'},\n",
       "     {'type': 'Choice',\n",
       "      'items': [{'type': 'TextualBody',\n",
       "        'format': 'text/plain',\n",
       "        'language': 'en',\n",
       "        'creator': 'http://example.org/user1',\n",
       "        'value': 'I really love this particular bit of text in this XML. No really.',\n",
       "        'purpose': 'describing'},\n",
       "       {'type': 'SpecificResource',\n",
       "        'purpose': 'describing',\n",
       "        'source': {'id': 'http://example.org/comment1',\n",
       "         'type': 'Audio',\n",
       "         'format': 'audio/mpeg',\n",
       "         'language': 'de',\n",
       "         'creator': {'id': 'http://example.org/user2', 'type': 'Person'}}}]}],\n",
       "    'target': {'type': 'SpecificResource',\n",
       "     'selector': {'type': 'FragmentSelector',\n",
       "      'value': 'xpointer(/doc/body/section[2]/para[1])',\n",
       "      'refinedBy': {'type': 'TextPositionSelector', 'end': 27, 'start': 6}},\n",
       "     'source': 'http://example.com/document1',\n",
       "     'state': {'type': 'HttpRequestState',\n",
       "      'value': 'Accept: application/xml',\n",
       "      'refinedBy': {'type': 'TimeState',\n",
       "       'sourceDate': '2015-09-25T12:00:00Z'}},\n",
       "     'styleClass': 'mystyle'},\n",
       "    'motivation': 'commenting',\n",
       "    'stylesheet': {'id': 'http://example.org/stylesheet1',\n",
       "     'type': 'CssStylesheet'},\n",
       "    'via': 'http://example.org/anno38'},\n",
       "   {'id': 'http://localhost:8080/annotation/w3c/77494602-1145-46f2-9f23-a88e9bc19ddf/dbc906a6-ae7d-4623-abb5-708f14fc4410',\n",
       "    'type': 'Annotation',\n",
       "    'creator': {'id': 'http://example.org/user1',\n",
       "     'type': 'Person',\n",
       "     'name': 'A. Person',\n",
       "     'nickname': 'user1'},\n",
       "    'body': {'id': 'https://textserver.example.org/text-31415/par2',\n",
       "     'type': 'Text'},\n",
       "    'target': 'http://www.example.com/index.html'},\n",
       "   {'id': 'http://localhost:8080/annotation/w3c/3f7fc5d8-f76d-4604-a2c8-23530142ad35/e5ade339-d85c-41a1-81a3-cc7f02de9453',\n",
       "    'type': 'Annotation',\n",
       "    'creator': {'id': 'http://example.org/user1',\n",
       "     'type': 'Person',\n",
       "     'name': 'A. Person',\n",
       "     'nickname': 'user1'},\n",
       "    'body': {'id': 'https://textserver.example.org/text-31415/par2',\n",
       "     'type': 'Text'},\n",
       "    'target': 'http://www.example.com/index.html'}],\n",
       "  'partOf': 'http://localhost:8080/annotation/w3c/services/search/creator?type=id&value=http%3A%2F%2Fexample.org&levels=annotation',\n",
       "  'startIndex': 0},\n",
       " 'last': 'http://localhost:8080/annotation/w3c/services/search/creator?page=0&type=id&value=http%3A%2F%2Fexample.org&levels=annotation&desc=1',\n",
       " 'total': 7}"
      ]
     },
     "execution_count": 13,
     "metadata": {},
     "output_type": "execute_result"
    }
   ],
   "source": [
    "response.json()"
   ]
  },
  {
   "cell_type": "markdown",
   "metadata": {},
   "source": [
    "## search by annotation generator"
   ]
  },
  {
   "cell_type": "code",
   "execution_count": 14,
   "metadata": {},
   "outputs": [
    {
     "data": {
      "text/plain": [
       "201"
      ]
     },
     "execution_count": 14,
     "metadata": {},
     "output_type": "execute_result"
    }
   ],
   "source": [
    "annotation = {\n",
    "  \"@context\": \"http://www.w3.org/ns/anno.jsonld\",\n",
    "  \"type\": \"Annotation\",\n",
    "  \"generator\": {\n",
    "    \"id\": \"http://example.org/ner-app\",\n",
    "    \"type\": \"Software\",\n",
    "    \"name\": \"NERCode v2.1\",\n",
    "    \"homepage\": \"http://example.org/homepage1\"\n",
    "  },\n",
    "  \"body\": {\n",
    "    \"type\": \"Person\",\n",
    "    \"value\": \"Johannes Doeus\",\n",
    "    \"id\": \"https://example.org/persons/pers2021\"\n",
    "  },\n",
    "  \"target\": \"http://textrepo.example.com/texts/textidentifier/textcharrange/200/210\"\n",
    "}\n",
    "response = requests.post(url=container_uri,headers=headers,json=annotation)\n",
    "\n",
    "response.status_code"
   ]
  },
  {
   "cell_type": "code",
   "execution_count": 15,
   "metadata": {},
   "outputs": [
    {
     "data": {
      "text/plain": [
       "200"
      ]
     },
     "execution_count": 15,
     "metadata": {},
     "output_type": "execute_result"
    }
   ],
   "source": [
    "response = requests.get(\n",
    "    url=elucidate_base_url+\"/w3c/services/search/generator\",\n",
    "    params={'levels':'annotation',\n",
    "            'type':'id',\n",
    "            'value':'http://example.org/ner-app'}\n",
    ")\n",
    "response.status_code"
   ]
  },
  {
   "cell_type": "code",
   "execution_count": 16,
   "metadata": {},
   "outputs": [
    {
     "data": {
      "text/plain": [
       "{'@context': ['http://www.w3.org/ns/anno.jsonld',\n",
       "  'http://www.w3.org/ns/ldp.jsonld'],\n",
       " 'id': 'http://localhost:8080/annotation/w3c/services/search/generator?type=id&value=http%3A%2F%2Fexample.org%2Fner-app&levels=annotation',\n",
       " 'type': 'AnnotationCollection',\n",
       " 'first': {'type': 'AnnotationPage',\n",
       "  'items': [{'id': 'http://localhost:8080/annotation/w3c/4a043590-5791-4963-88b7-3c61de33c163/0387c0f8-74fc-48ba-b87d-e5729d16a446',\n",
       "    'type': 'Annotation',\n",
       "    'generator': {'id': 'http://example.org/ner-app',\n",
       "     'type': 'Software',\n",
       "     'homepage': 'http://example.org/homepage1',\n",
       "     'name': 'NERCode v2.1'},\n",
       "    'body': {'id': 'https://example.org/persons/pers2021',\n",
       "     'type': 'Person',\n",
       "     'value': 'Johannes Doeus'},\n",
       "    'target': 'http://textrepo.example.com/texts/textidentifier/textcharrange/200/210'},\n",
       "   {'id': 'http://localhost:8080/annotation/w3c/3f7fc5d8-f76d-4604-a2c8-23530142ad35/6bb843fe-c8e9-49a2-b94b-79e256733ed1',\n",
       "    'type': 'Annotation',\n",
       "    'generator': {'id': 'http://example.org/ner-app',\n",
       "     'type': 'Software',\n",
       "     'homepage': 'http://example.org/homepage1',\n",
       "     'name': 'NERCode v2.1'},\n",
       "    'body': {'id': 'https://example.org/persons/pers2021',\n",
       "     'type': 'Person',\n",
       "     'value': 'Johannes Doeus'},\n",
       "    'target': 'http://textrepo.example.com/texts/textidentifier/textcharrange/200/210'},\n",
       "   {'id': 'http://localhost:8080/annotation/w3c/7a905e62-3f2c-481f-a303-1fb3a0491786/c19380a4-583d-4150-81b8-b714b6216af1',\n",
       "    'type': 'Annotation',\n",
       "    'generator': {'id': 'http://example.org/ner-app',\n",
       "     'type': 'Software',\n",
       "     'homepage': 'http://example.org/homepage1',\n",
       "     'name': 'NERCode v2.1'},\n",
       "    'body': {'id': 'https://example.org/persons/pers2021',\n",
       "     'type': 'Person',\n",
       "     'value': 'Johannes Doeus'},\n",
       "    'target': 'http://textrepo.example.com/texts/textidentifier/textcharrange/200/210'},\n",
       "   {'id': 'http://localhost:8080/annotation/w3c/77494602-1145-46f2-9f23-a88e9bc19ddf/cb51a06e-7e6f-4b7f-a620-4b742293dc81',\n",
       "    'type': 'Annotation',\n",
       "    'generator': {'id': 'http://example.org/ner-app',\n",
       "     'type': 'Software',\n",
       "     'homepage': 'http://example.org/homepage1',\n",
       "     'name': 'NERCode v2.1'},\n",
       "    'body': {'id': 'https://example.org/persons/pers2021',\n",
       "     'type': 'Person',\n",
       "     'value': 'Johannes Doeus'},\n",
       "    'target': 'http://textrepo.example.com/texts/textidentifier/textcharrange/200/210'}],\n",
       "  'partOf': 'http://localhost:8080/annotation/w3c/services/search/generator?type=id&value=http%3A%2F%2Fexample.org%2Fner-app&levels=annotation',\n",
       "  'startIndex': 0},\n",
       " 'last': 'http://localhost:8080/annotation/w3c/services/search/generator?page=0&type=id&value=http%3A%2F%2Fexample.org%2Fner-app&levels=annotation&desc=1',\n",
       " 'total': 4}"
      ]
     },
     "execution_count": 16,
     "metadata": {},
     "output_type": "execute_result"
    }
   ],
   "source": [
    "response.json()"
   ]
  }
 ],
 "metadata": {
  "kernelspec": {
   "display_name": "Python 3",
   "language": "python",
   "name": "python3"
  },
  "language_info": {
   "codemirror_mode": {
    "name": "ipython",
    "version": 3
   },
   "file_extension": ".py",
   "mimetype": "text/x-python",
   "name": "python",
   "nbconvert_exporter": "python",
   "pygments_lexer": "ipython3",
   "version": "3.8.5"
  }
 },
 "nbformat": 4,
 "nbformat_minor": 2
}
