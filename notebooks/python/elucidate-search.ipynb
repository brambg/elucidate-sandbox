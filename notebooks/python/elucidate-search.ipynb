{
 "cells": [
  {
   "cell_type": "markdown",
   "metadata": {},
   "source": [
    "## setup"
   ]
  },
  {
   "cell_type": "code",
   "execution_count": 1,
   "metadata": {},
   "outputs": [],
   "source": [
    "import requests\n",
    "from pprint import pprint,pformat\n",
    "\n",
    "elucidate_base_url = 'http://localhost:8080/annotation'\n",
    "headers = {\n",
    "    'Accept':'application/ld+json; profile=\"http://www.w3.org/ns/anno.jsonld\"',\n",
    "    'Content-Type': 'application/ld+json; profile=\"http://www.w3.org/ns/anno.jsonld\"'\n",
    "}\n"
   ]
  },
  {
   "cell_type": "markdown",
   "metadata": {},
   "source": [
    "## search by body id"
   ]
  },
  {
   "cell_type": "code",
   "execution_count": 12,
   "metadata": {},
   "outputs": [
    {
     "data": {
      "text/plain": [
       "201"
      ]
     },
     "execution_count": 12,
     "metadata": {},
     "output_type": "execute_result"
    }
   ],
   "source": [
    "annotation = {\n",
    "  \"@context\": \"http://www.w3.org/ns/anno.jsonld\",\n",
    "  \"type\": \"Annotation\",\n",
    "  \"body\": {\n",
    "    \"type\": \"Text\",\n",
    "    \"id\": \"https://textserver.example.org/text-31415/par1\"\n",
    "  },\n",
    "  \"target\": \"http://www.example.com/index.html\"\n",
    "}\n",
    "response = requests.post(url=container_uri,headers=headers,json=annotation)\n",
    "\n",
    "response.status_code"
   ]
  },
  {
   "cell_type": "code",
   "execution_count": 13,
   "metadata": {},
   "outputs": [
    {
     "data": {
      "text/plain": [
       "200"
      ]
     },
     "execution_count": 13,
     "metadata": {},
     "output_type": "execute_result"
    }
   ],
   "source": [
    "response = requests.get(\n",
    "    url=elucidate_base_url+\"/w3c/services/search/body\",\n",
    "    params={'fields':'id',\n",
    "            'value':'https://textserver.example.org'}\n",
    ")\n",
    "response.status_code"
   ]
  },
  {
   "cell_type": "code",
   "execution_count": 14,
   "metadata": {},
   "outputs": [
    {
     "data": {
      "text/plain": [
       "{'@context': ['http://www.w3.org/ns/anno.jsonld',\n",
       "  'http://www.w3.org/ns/ldp.jsonld'],\n",
       " 'id': 'http://localhost:8080/annotation/w3c/services/search/body?fields=id&value=https%3A%2F%2Ftextserver.example.org',\n",
       " 'type': 'AnnotationCollection',\n",
       " 'first': {'type': 'AnnotationPage',\n",
       "  'items': [{'id': 'http://localhost:8080/annotation/w3c/77494602-1145-46f2-9f23-a88e9bc19ddf/b15fae5d-fb14-4fb4-a2c7-bccbacc5ee86',\n",
       "    'type': 'Annotation',\n",
       "    'body': {'id': 'https://textserver.example.org/text-31415/par1',\n",
       "     'type': 'Text'},\n",
       "    'target': 'http://www.example.com/index.html'},\n",
       "   {'id': 'http://localhost:8080/annotation/w3c/3acfa19a-e6d0-46a6-a46e-6a199f04b726/ebf1faae-5529-43fe-aa33-13a3f3a83383',\n",
       "    'type': 'Annotation',\n",
       "    'body': {'id': 'https://textserver.example.org/text-31415/par1',\n",
       "     'type': 'Text'},\n",
       "    'target': 'http://www.example.com/index.html'}],\n",
       "  'partOf': 'http://localhost:8080/annotation/w3c/services/search/body?fields=id&value=https%3A%2F%2Ftextserver.example.org',\n",
       "  'startIndex': 0},\n",
       " 'last': 'http://localhost:8080/annotation/w3c/services/search/body?page=0&fields=id&value=https%3A%2F%2Ftextserver.example.org&desc=1',\n",
       " 'total': 2}"
      ]
     },
     "execution_count": 14,
     "metadata": {},
     "output_type": "execute_result"
    }
   ],
   "source": [
    "response.json()"
   ]
  },
  {
   "cell_type": "markdown",
   "metadata": {},
   "source": [
    "## search by body source"
   ]
  },
  {
   "cell_type": "code",
   "execution_count": 15,
   "metadata": {},
   "outputs": [
    {
     "data": {
      "text/plain": [
       "201"
      ]
     },
     "execution_count": 15,
     "metadata": {},
     "output_type": "execute_result"
    }
   ],
   "source": [
    "annotation = {\n",
    "  \"@context\": \"http://www.w3.org/ns/anno.jsonld\",\n",
    "  \"type\": \"Annotation\",\n",
    "  \"body\": {\n",
    "    \"source\": \"http://example.org/page1\",\n",
    "    \"selector\": \"http://example.org/paraselector1\"\n",
    "  },\n",
    "  \"target\": {\n",
    "    \"source\": \"http://example.com/dataset1\",\n",
    "    \"selector\": \"http://example.org/dataselector1\"\n",
    "  }\n",
    "}\n",
    "response = requests.post(url=container_uri,headers=headers,json=annotation)\n",
    "\n",
    "response.status_code"
   ]
  },
  {
   "cell_type": "code",
   "execution_count": 16,
   "metadata": {},
   "outputs": [
    {
     "data": {
      "text/plain": [
       "200"
      ]
     },
     "execution_count": 16,
     "metadata": {},
     "output_type": "execute_result"
    }
   ],
   "source": [
    "response = requests.get(\n",
    "    url=elucidate_base_url+\"/w3c/services/search/body\",\n",
    "    params={'fields':'source',\n",
    "            'value':'http://example.org'}\n",
    ")\n",
    "response.status_code"
   ]
  },
  {
   "cell_type": "code",
   "execution_count": 17,
   "metadata": {
    "scrolled": false
   },
   "outputs": [
    {
     "data": {
      "text/plain": [
       "{'@context': ['http://www.w3.org/ns/anno.jsonld',\n",
       "  'http://www.w3.org/ns/ldp.jsonld'],\n",
       " 'id': 'http://localhost:8080/annotation/w3c/services/search/body?fields=source&value=http%3A%2F%2Fexample.org',\n",
       " 'type': 'AnnotationCollection',\n",
       " 'first': {'type': 'AnnotationPage',\n",
       "  'items': [{'id': 'http://localhost:8080/annotation/w3c/3acfa19a-e6d0-46a6-a46e-6a199f04b726/66d07b02-8615-45a4-b991-ae894743b80f',\n",
       "    'type': 'Annotation',\n",
       "    'body': {'selector': 'http://example.org/paraselector1',\n",
       "     'source': 'http://example.org/page1'},\n",
       "    'target': {'selector': 'http://example.org/dataselector1',\n",
       "     'source': 'http://example.com/dataset1'}},\n",
       "   {'id': 'http://localhost:8080/annotation/w3c/3acfa19a-e6d0-46a6-a46e-6a199f04b726/74d57dad-c5b2-4278-99a9-2b610b1a7782',\n",
       "    'type': 'Annotation',\n",
       "    'body': {'selector': 'http://example.org/paraselector1',\n",
       "     'source': 'http://example.org/page1'},\n",
       "    'target': {'selector': 'http://example.org/dataselector1',\n",
       "     'source': 'http://example.com/dataset1'}},\n",
       "   {'id': 'http://localhost:8080/annotation/w3c/77494602-1145-46f2-9f23-a88e9bc19ddf/7d87dbd6-a0cc-4869-8030-923ff489da72',\n",
       "    'type': 'Annotation',\n",
       "    'body': {'selector': 'http://example.org/paraselector1',\n",
       "     'source': 'http://example.org/page1'},\n",
       "    'target': {'selector': 'http://example.org/dataselector1',\n",
       "     'source': 'http://example.com/dataset1'}},\n",
       "   {'id': 'http://localhost:8080/annotation/w3c/3acfa19a-e6d0-46a6-a46e-6a199f04b726/cf94672d-ea2f-4a77-8948-a664e4321cc8',\n",
       "    'type': 'Annotation',\n",
       "    'body': {'type': 'SpecificResource',\n",
       "     'purpose': 'tagging',\n",
       "     'source': 'http://example.org/city1'},\n",
       "    'target': {'id': 'http://example.org/photo1', 'type': 'Image'}}],\n",
       "  'partOf': 'http://localhost:8080/annotation/w3c/services/search/body?fields=source&value=http%3A%2F%2Fexample.org',\n",
       "  'startIndex': 0},\n",
       " 'last': 'http://localhost:8080/annotation/w3c/services/search/body?page=0&fields=source&value=http%3A%2F%2Fexample.org&desc=1',\n",
       " 'total': 4}"
      ]
     },
     "execution_count": 17,
     "metadata": {},
     "output_type": "execute_result"
    }
   ],
   "source": [
    "response.json()"
   ]
  },
  {
   "cell_type": "markdown",
   "metadata": {},
   "source": [
    "## search by target id"
   ]
  },
  {
   "cell_type": "code",
   "execution_count": 18,
   "metadata": {},
   "outputs": [
    {
     "data": {
      "text/plain": [
       "201"
      ]
     },
     "execution_count": 18,
     "metadata": {},
     "output_type": "execute_result"
    }
   ],
   "source": [
    "annotation = {\n",
    "  \"@context\": \"http://www.w3.org/ns/anno.jsonld\",\n",
    "  \"type\": \"Annotation\",\n",
    "  \"body\": {\n",
    "    \"type\": \"SpecificResource\",\n",
    "    \"purpose\": \"tagging\",\n",
    "    \"source\": \"http://example.org/city1\"\n",
    "  },\n",
    "  \"target\": {\n",
    "    \"id\": \"http://example.org/photo1\",\n",
    "    \"type\": \"Image\"\n",
    "  }\n",
    "}\n",
    "response = requests.post(url=container_uri,headers=headers,json=annotation)\n",
    "\n",
    "response.status_code"
   ]
  },
  {
   "cell_type": "code",
   "execution_count": 19,
   "metadata": {},
   "outputs": [
    {
     "data": {
      "text/plain": [
       "200"
      ]
     },
     "execution_count": 19,
     "metadata": {},
     "output_type": "execute_result"
    }
   ],
   "source": [
    "response = requests.get(\n",
    "    url=elucidate_base_url+\"/w3c/services/search/target\",\n",
    "    params={'fields':'id',\n",
    "            'value':'http://example.org/photo1'}\n",
    ")\n",
    "response.status_code"
   ]
  },
  {
   "cell_type": "code",
   "execution_count": 20,
   "metadata": {},
   "outputs": [
    {
     "data": {
      "text/plain": [
       "{'@context': ['http://www.w3.org/ns/anno.jsonld',\n",
       "  'http://www.w3.org/ns/ldp.jsonld'],\n",
       " 'id': 'http://localhost:8080/annotation/w3c/services/search/target?fields=id&value=http%3A%2F%2Fexample.org%2Fphoto1',\n",
       " 'type': 'AnnotationCollection',\n",
       " 'first': {'type': 'AnnotationPage',\n",
       "  'items': [{'id': 'http://localhost:8080/annotation/w3c/77494602-1145-46f2-9f23-a88e9bc19ddf/a85e6185-e119-4060-9dcf-626b1f7eb060',\n",
       "    'type': 'Annotation',\n",
       "    'body': {'type': 'SpecificResource',\n",
       "     'purpose': 'tagging',\n",
       "     'source': 'http://example.org/city1'},\n",
       "    'target': {'id': 'http://example.org/photo1', 'type': 'Image'}},\n",
       "   {'id': 'http://localhost:8080/annotation/w3c/3acfa19a-e6d0-46a6-a46e-6a199f04b726/cf94672d-ea2f-4a77-8948-a664e4321cc8',\n",
       "    'type': 'Annotation',\n",
       "    'body': {'type': 'SpecificResource',\n",
       "     'purpose': 'tagging',\n",
       "     'source': 'http://example.org/city1'},\n",
       "    'target': {'id': 'http://example.org/photo1', 'type': 'Image'}}],\n",
       "  'partOf': 'http://localhost:8080/annotation/w3c/services/search/target?fields=id&value=http%3A%2F%2Fexample.org%2Fphoto1',\n",
       "  'startIndex': 0},\n",
       " 'last': 'http://localhost:8080/annotation/w3c/services/search/target?page=0&fields=id&value=http%3A%2F%2Fexample.org%2Fphoto1&desc=1',\n",
       " 'total': 2}"
      ]
     },
     "execution_count": 20,
     "metadata": {},
     "output_type": "execute_result"
    }
   ],
   "source": [
    "response.json()"
   ]
  },
  {
   "cell_type": "markdown",
   "metadata": {},
   "source": [
    "## search by target source"
   ]
  },
  {
   "cell_type": "code",
   "execution_count": 21,
   "metadata": {},
   "outputs": [
    {
     "data": {
      "text/plain": [
       "201"
      ]
     },
     "execution_count": 21,
     "metadata": {},
     "output_type": "execute_result"
    }
   ],
   "source": [
    "annotation = {\n",
    "  \"@context\": \"http://www.w3.org/ns/anno.jsonld\",\n",
    "  \"type\": \"Annotation\",\n",
    "  \"body\": {\n",
    "    \"source\": \"http://example.org/page1\",\n",
    "    \"selector\": \"http://example.org/paraselector1\"\n",
    "  },\n",
    "  \"target\": {\n",
    "    \"source\": \"http://example.com/dataset1\",\n",
    "    \"selector\": \"http://example.org/dataselector1\"\n",
    "  }\n",
    "}\n",
    "response = requests.post(url=container_uri,headers=headers,json=annotation)\n",
    "\n",
    "response.status_code"
   ]
  },
  {
   "cell_type": "code",
   "execution_count": 34,
   "metadata": {},
   "outputs": [
    {
     "data": {
      "text/plain": [
       "200"
      ]
     },
     "execution_count": 34,
     "metadata": {},
     "output_type": "execute_result"
    }
   ],
   "source": [
    "response = requests.get(\n",
    "    url=elucidate_base_url+\"/w3c/services/search/target\",\n",
    "    params={'fields':'source',\n",
    "            'value':'http://example.com/'}\n",
    ")\n",
    "response.status_code"
   ]
  },
  {
   "cell_type": "code",
   "execution_count": 35,
   "metadata": {},
   "outputs": [
    {
     "data": {
      "text/plain": [
       "{'@context': ['http://www.w3.org/ns/anno.jsonld',\n",
       "  'http://www.w3.org/ns/ldp.jsonld'],\n",
       " 'id': 'http://localhost:8080/annotation/w3c/services/search/target?fields=source&value=http%3A%2F%2Fexample.com%2F',\n",
       " 'type': 'AnnotationCollection',\n",
       " 'first': {'type': 'AnnotationPage',\n",
       "  'as:items': {'@list': []},\n",
       "  'partOf': 'http://localhost:8080/annotation/w3c/services/search/target?fields=source&value=http%3A%2F%2Fexample.com%2F',\n",
       "  'startIndex': 0},\n",
       " 'last': 'http://localhost:8080/annotation/w3c/services/search/target?page=0&fields=source&value=http%3A%2F%2Fexample.com%2F&desc=1',\n",
       " 'total': 0}"
      ]
     },
     "execution_count": 35,
     "metadata": {},
     "output_type": "execute_result"
    }
   ],
   "source": [
    "response.json()"
   ]
  },
  {
   "cell_type": "markdown",
   "metadata": {},
   "source": [
    "## search by annotation creator"
   ]
  },
  {
   "cell_type": "code",
   "execution_count": 28,
   "metadata": {},
   "outputs": [
    {
     "data": {
      "text/plain": [
       "201"
      ]
     },
     "execution_count": 28,
     "metadata": {},
     "output_type": "execute_result"
    }
   ],
   "source": [
    "annotation = {\n",
    "  \"@context\": \"http://www.w3.org/ns/anno.jsonld\",\n",
    "  \"type\": \"Annotation\",\n",
    "  \"creator\": {\n",
    "    \"id\": \"http://example.org/user1\",\n",
    "    \"type\": \"Person\",\n",
    "    \"name\": \"A. Person\",\n",
    "    \"nickname\": \"user1\"\n",
    "  },\n",
    "  \"body\": {\n",
    "    \"type\": \"Text\",\n",
    "    \"id\": \"https://textserver.example.org/text-31415/par2\"\n",
    "  },\n",
    "  \"target\": \"http://www.example.com/index.html\"\n",
    "}\n",
    "response = requests.post(url=container_uri,headers=headers,json=annotation)\n",
    "\n",
    "response.status_code"
   ]
  },
  {
   "cell_type": "code",
   "execution_count": 29,
   "metadata": {},
   "outputs": [
    {
     "data": {
      "text/plain": [
       "200"
      ]
     },
     "execution_count": 29,
     "metadata": {},
     "output_type": "execute_result"
    }
   ],
   "source": [
    "response = requests.get(\n",
    "    url=elucidate_base_url+\"/w3c/services/search/creator\",\n",
    "    params={'levels':'annotation',\n",
    "            'type':'id',\n",
    "            'value':'http://example.org'}\n",
    ")\n",
    "response.status_code"
   ]
  },
  {
   "cell_type": "code",
   "execution_count": 30,
   "metadata": {},
   "outputs": [
    {
     "data": {
      "text/plain": [
       "{'@context': ['http://www.w3.org/ns/anno.jsonld',\n",
       "  'http://www.w3.org/ns/ldp.jsonld'],\n",
       " 'id': 'http://localhost:8080/annotation/w3c/services/search/creator?type=id&value=http%3A%2F%2Fexample.org&levels=annotation',\n",
       " 'type': 'AnnotationCollection',\n",
       " 'first': {'type': 'AnnotationPage',\n",
       "  'items': [{'id': 'http://localhost:8080/annotation/w3c/77494602-1145-46f2-9f23-a88e9bc19ddf/dbc906a6-ae7d-4623-abb5-708f14fc4410',\n",
       "    'type': 'Annotation',\n",
       "    'creator': {'id': 'http://example.org/user1',\n",
       "     'type': 'Person',\n",
       "     'name': 'A. Person',\n",
       "     'nickname': 'user1'},\n",
       "    'body': {'id': 'https://textserver.example.org/text-31415/par2',\n",
       "     'type': 'Text'},\n",
       "    'target': 'http://www.example.com/index.html'}],\n",
       "  'partOf': 'http://localhost:8080/annotation/w3c/services/search/creator?type=id&value=http%3A%2F%2Fexample.org&levels=annotation',\n",
       "  'startIndex': 0},\n",
       " 'last': 'http://localhost:8080/annotation/w3c/services/search/creator?page=0&type=id&value=http%3A%2F%2Fexample.org&levels=annotation&desc=1',\n",
       " 'total': 1}"
      ]
     },
     "execution_count": 30,
     "metadata": {},
     "output_type": "execute_result"
    }
   ],
   "source": [
    "response.json()"
   ]
  },
  {
   "cell_type": "markdown",
   "metadata": {},
   "source": [
    "## search by annotation generator"
   ]
  },
  {
   "cell_type": "code",
   "execution_count": 31,
   "metadata": {},
   "outputs": [
    {
     "data": {
      "text/plain": [
       "201"
      ]
     },
     "execution_count": 31,
     "metadata": {},
     "output_type": "execute_result"
    }
   ],
   "source": [
    "annotation = {\n",
    "  \"@context\": \"http://www.w3.org/ns/anno.jsonld\",\n",
    "  \"type\": \"Annotation\",\n",
    "  \"generator\": {\n",
    "    \"id\": \"http://example.org/ner-app\",\n",
    "    \"type\": \"Software\",\n",
    "    \"name\": \"NERCode v2.1\",\n",
    "    \"homepage\": \"http://example.org/homepage1\"\n",
    "  },\n",
    "  \"body\": {\n",
    "    \"type\": \"Person\",\n",
    "    \"value\": \"Johannes Doeus\",\n",
    "    \"id\": \"https://example.org/persons/pers2021\"\n",
    "  },\n",
    "  \"target\": \"http://textrepo.example.com/texts/textidentifier/textcharrange/200/210\"\n",
    "}\n",
    "response = requests.post(url=container_uri,headers=headers,json=annotation)\n",
    "\n",
    "response.status_code"
   ]
  },
  {
   "cell_type": "code",
   "execution_count": 32,
   "metadata": {},
   "outputs": [
    {
     "data": {
      "text/plain": [
       "200"
      ]
     },
     "execution_count": 32,
     "metadata": {},
     "output_type": "execute_result"
    }
   ],
   "source": [
    "response = requests.get(\n",
    "    url=elucidate_base_url+\"/w3c/services/search/generator\",\n",
    "    params={'levels':'annotation',\n",
    "            'type':'id',\n",
    "            'value':'http://example.org/ner-app'}\n",
    ")\n",
    "response.status_code"
   ]
  },
  {
   "cell_type": "code",
   "execution_count": 33,
   "metadata": {},
   "outputs": [
    {
     "data": {
      "text/plain": [
       "{'@context': ['http://www.w3.org/ns/anno.jsonld',\n",
       "  'http://www.w3.org/ns/ldp.jsonld'],\n",
       " 'id': 'http://localhost:8080/annotation/w3c/services/search/generator?type=id&value=http%3A%2F%2Fexample.org%2Fner-app&levels=annotation',\n",
       " 'type': 'AnnotationCollection',\n",
       " 'first': {'type': 'AnnotationPage',\n",
       "  'items': [{'id': 'http://localhost:8080/annotation/w3c/77494602-1145-46f2-9f23-a88e9bc19ddf/cb51a06e-7e6f-4b7f-a620-4b742293dc81',\n",
       "    'type': 'Annotation',\n",
       "    'generator': {'id': 'http://example.org/ner-app',\n",
       "     'type': 'Software',\n",
       "     'homepage': 'http://example.org/homepage1',\n",
       "     'name': 'NERCode v2.1'},\n",
       "    'body': {'id': 'https://example.org/persons/pers2021',\n",
       "     'type': 'Person',\n",
       "     'value': 'Johannes Doeus'},\n",
       "    'target': 'http://textrepo.example.com/texts/textidentifier/textcharrange/200/210'}],\n",
       "  'partOf': 'http://localhost:8080/annotation/w3c/services/search/generator?type=id&value=http%3A%2F%2Fexample.org%2Fner-app&levels=annotation',\n",
       "  'startIndex': 0},\n",
       " 'last': 'http://localhost:8080/annotation/w3c/services/search/generator?page=0&type=id&value=http%3A%2F%2Fexample.org%2Fner-app&levels=annotation&desc=1',\n",
       " 'total': 1}"
      ]
     },
     "execution_count": 33,
     "metadata": {},
     "output_type": "execute_result"
    }
   ],
   "source": [
    "response.json()"
   ]
  }
 ],
 "metadata": {
  "kernelspec": {
   "display_name": "Python 3",
   "language": "python",
   "name": "python3"
  },
  "language_info": {
   "codemirror_mode": {
    "name": "ipython",
    "version": 3
   },
   "file_extension": ".py",
   "mimetype": "text/x-python",
   "name": "python",
   "nbconvert_exporter": "python",
   "pygments_lexer": "ipython3",
   "version": "3.8.5"
  }
 },
 "nbformat": 4,
 "nbformat_minor": 2
}
