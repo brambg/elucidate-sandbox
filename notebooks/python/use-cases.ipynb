{
 "cells": [
  {
   "cell_type": "markdown",
   "metadata": {},
   "source": [
    "## use cases\n"
   ]
  },
  {
   "cell_type": "markdown",
   "metadata": {},
   "source": [
    "* ... _makkelijk terug kunnen vinden van je eigen eerdere annotaties en daarmee ook het terug kunnen gaan naar specifieke geannoteerde documenten._\n",
    "\n",
    "Mits het _creator_ veld goed is ingevuld in de annotatie kan de [*search by creator*](https://github.com/dlcs/elucidate-server/blob/master/USAGE.md#search-by-creator) hierbij helpen.\n",
    "Die specifieke geannoteerde documenten zijn dan af te leiden uit het *target* veld\n"
   ]
  },
  {
   "cell_type": "markdown",
   "metadata": {},
   "source": [
    "* _Belangrijke queries zijn zoeken op creator, creatie datum (gebruikers denken dan o.a. in termen als 'ik wil een paar annotaties aanpassen die *ik* gemaakt heb in de laatste twee uur', of '... gisteren'), en annotation bodies (het type body zoals een 'comment', 'tag' of 'correction', of de waarde die ik heb ingevoerd)._\n",
    "\n",
    "_zoeken op creator_ : [*search by creator*](https://github.com/dlcs/elucidate-server/blob/master/USAGE.md#search-by-creator) Er kan gezocht worden op de creator van de *annotation*, de *body*, de *target*, of een combinatie van deze drie. Binnen de creator data kan gezocht worden op de velden *id*,*name*,*nickname*,*email*,*emailsha1*. Er kan een match gezocht worden met het hele veld, of alleen het begin van het veld. (De waarde die je meegeeft is dan de prefix waar je naar zoekt. Dit is vooral relevant voor het *id* veld, waar typisch URI's opgeslagen worden.)\n",
    "\n",
    "_zoeken op creatie datum_ : [*search by created/modified/generated*](https://github.com/dlcs/elucidate-server/blob/master/USAGE.md#search-by-created-modified-generated) Er kan gezocht worden op het *created*, *modified* of *generated* veld (of combinatie) binnen *annotation*, *body* of *target* (of combinatie). Er wordt een ISO8601 timestamp meegegeven om annotaties terug te geven die van die datum of nieuwer zijn.\n",
    "\n",
    "_zoeken op body type_ : Bij [*search by body*](https://github.com/dlcs/elucidate-server/blob/master/USAGE.md#search-by-body) kan er alleen gezocht worden binnen de velden *id* en *source*. Het *type* veld wordt niet out-of-the-box mee geïndexeerd. Het is in de code ook niet echt eenvoudig om een veld toe te voegen aan de index.\n"
   ]
  },
  {
   "cell_type": "markdown",
   "metadata": {},
   "source": [
    "* _Ook wil ik makkelijk annotaties op kunnen vragen voor een gegeven document, e.g. alle annotaties op pagina X van de resoluties._\n",
    "\n",
    "Hier zou de [*search by target*](https://github.com/dlcs/elucidate-server/blob/master/USAGE.md#search-by-target) kunnen helpen, mits het (textrepo) url in de target *id* die pagina informatie in zich heeft. \n",
    "De WA specificatie biedt mogelijkheden om gedetailleerd aan te geven waar het annoteerde tekstdeel zich bevindt, maar op die details kan in elucidate niet standaard gezocht worden.\n"
   ]
  },
  {
   "cell_type": "markdown",
   "metadata": {},
   "source": [
    "* _Die pagina X bevat tekst van een of meer resoluties, die bij een of meer zittingsdagen (vergaderdagen) horen. Dus soms is mijn zoekvraag \"geef mij alle annotaties op pagina X\", en soms is het \"... voor zittingsdag Y\" of \"... voor resolutie Z\"_\n",
    "\n",
    "Hier geldt hetzelfde: er is wel een manier te vinden om die extra informatie toe te voegen aan de *target*, maar er kan niet standaard op gezocht worden.\n"
   ]
  },
  {
   "cell_type": "markdown",
   "metadata": {},
   "source": [
    "* _Breder denken vanuit onderzoeksbehoeften, zullen gebruikers selecties van documenten willen gebruiken om annotaties op te vragen. E.g. 'voor deze subset van paginas/resoluties/brieven wil ik alle annotaties die een tag bevatten opvragen..._\n",
    "\n",
    "Elucidate biedt een beperkte set aan zoekingangen, maar geen mogelijkheid om die zoekingangen te combineren.\n",
    "Er is wel een search die je alle annotaties van bv. een bepaalde *creator* geeft, en een search die je alle annoties vanaf een bepaalde datum geeft, maar er is geen search die alle annotaties van een *creator* én van na een bepaalde datum geeft."
   ]
  }
 ],
 "metadata": {
  "kernelspec": {
   "display_name": "Python 3",
   "language": "python",
   "name": "python3"
  },
  "language_info": {
   "codemirror_mode": {
    "name": "ipython",
    "version": 3
   },
   "file_extension": ".py",
   "mimetype": "text/x-python",
   "name": "python",
   "nbconvert_exporter": "python",
   "pygments_lexer": "ipython3",
   "version": "3.8.5"
  }
 },
 "nbformat": 4,
 "nbformat_minor": 2
}
