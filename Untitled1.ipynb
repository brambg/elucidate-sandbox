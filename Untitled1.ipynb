{
 "cells": [
  {
   "cell_type": "code",
   "execution_count": 1,
   "metadata": {},
   "outputs": [
    {
     "name": "stdout",
     "output_type": "stream",
     "text": [
      ":: problems summary ::\n",
      ":::: WARNINGS\n",
      "\t\tmodule not found: org.apache.marmotta#ldpath-core;3.4.0-SNAPSHOT\n",
      "\n",
      "\t==== jcenter.bintray.com: tried\n",
      "\n",
      "\t  https://jcenter.bintray.com/org/apache/marmotta/ldpath-core/3.4.0-SNAPSHOT/ldpath-core-3.4.0-SNAPSHOT.pom\n",
      "\n",
      "\t  -- artifact org.apache.marmotta#ldpath-core;3.4.0-SNAPSHOT!ldpath-core.jar:\n",
      "\n",
      "\t  https://jcenter.bintray.com/org/apache/marmotta/ldpath-core/3.4.0-SNAPSHOT/ldpath-core-3.4.0-SNAPSHOT.jar\n",
      "\n",
      "\t==== repo.maven.apache.org: tried\n",
      "\n",
      "\t  https://repo.maven.apache.org/maven2/org/apache/marmotta/ldpath-core/3.4.0-SNAPSHOT/ldpath-core-3.4.0-SNAPSHOT.pom\n",
      "\n",
      "\t  -- artifact org.apache.marmotta#ldpath-core;3.4.0-SNAPSHOT!ldpath-core.jar:\n",
      "\n",
      "\t  https://repo.maven.apache.org/maven2/org/apache/marmotta/ldpath-core/3.4.0-SNAPSHOT/ldpath-core-3.4.0-SNAPSHOT.jar\n",
      "\n",
      "\t==== jitpack.io: tried\n",
      "\n",
      "\t  https://jitpack.io/org/apache/marmotta/ldpath-core/3.4.0-SNAPSHOT/ldpath-core-3.4.0-SNAPSHOT.pom\n",
      "\n",
      "\t  -- artifact org.apache.marmotta#ldpath-core;3.4.0-SNAPSHOT!ldpath-core.jar:\n",
      "\n",
      "\t  https://jitpack.io/org/apache/marmotta/ldpath-core/3.4.0-SNAPSHOT/ldpath-core-3.4.0-SNAPSHOT.jar\n",
      "\n",
      "\t==== central: tried\n",
      "\n",
      "\t  https://repo1.maven.org/maven2/org/apache/marmotta/ldpath-core/3.4.0-SNAPSHOT/ldpath-core-3.4.0-SNAPSHOT.pom\n",
      "\n",
      "\t  -- artifact org.apache.marmotta#ldpath-core;3.4.0-SNAPSHOT!ldpath-core.jar:\n",
      "\n",
      "\t  https://repo1.maven.org/maven2/org/apache/marmotta/ldpath-core/3.4.0-SNAPSHOT/ldpath-core-3.4.0-SNAPSHOT.jar\n",
      "\n",
      "\t\tmodule not found: org.apache.marmotta#ldpath-backend-sesame;3.4.0-SNAPSHOT\n",
      "\n",
      "\t==== jcenter.bintray.com: tried\n",
      "\n",
      "\t  https://jcenter.bintray.com/org/apache/marmotta/ldpath-backend-sesame/3.4.0-SNAPSHOT/ldpath-backend-sesame-3.4.0-SNAPSHOT.pom\n",
      "\n",
      "\t  -- artifact org.apache.marmotta#ldpath-backend-sesame;3.4.0-SNAPSHOT!ldpath-backend-sesame.jar:\n",
      "\n",
      "\t  https://jcenter.bintray.com/org/apache/marmotta/ldpath-backend-sesame/3.4.0-SNAPSHOT/ldpath-backend-sesame-3.4.0-SNAPSHOT.jar\n",
      "\n",
      "\t==== repo.maven.apache.org: tried\n",
      "\n",
      "\t  https://repo.maven.apache.org/maven2/org/apache/marmotta/ldpath-backend-sesame/3.4.0-SNAPSHOT/ldpath-backend-sesame-3.4.0-SNAPSHOT.pom\n",
      "\n",
      "\t  -- artifact org.apache.marmotta#ldpath-backend-sesame;3.4.0-SNAPSHOT!ldpath-backend-sesame.jar:\n",
      "\n",
      "\t  https://repo.maven.apache.org/maven2/org/apache/marmotta/ldpath-backend-sesame/3.4.0-SNAPSHOT/ldpath-backend-sesame-3.4.0-SNAPSHOT.jar\n",
      "\n",
      "\t==== jitpack.io: tried\n",
      "\n",
      "\t  https://jitpack.io/org/apache/marmotta/ldpath-backend-sesame/3.4.0-SNAPSHOT/ldpath-backend-sesame-3.4.0-SNAPSHOT.pom\n",
      "\n",
      "\t  -- artifact org.apache.marmotta#ldpath-backend-sesame;3.4.0-SNAPSHOT!ldpath-backend-sesame.jar:\n",
      "\n",
      "\t  https://jitpack.io/org/apache/marmotta/ldpath-backend-sesame/3.4.0-SNAPSHOT/ldpath-backend-sesame-3.4.0-SNAPSHOT.jar\n",
      "\n",
      "\t==== central: tried\n",
      "\n",
      "\t  https://repo1.maven.org/maven2/org/apache/marmotta/ldpath-backend-sesame/3.4.0-SNAPSHOT/ldpath-backend-sesame-3.4.0-SNAPSHOT.pom\n",
      "\n",
      "\t  -- artifact org.apache.marmotta#ldpath-backend-sesame;3.4.0-SNAPSHOT!ldpath-backend-sesame.jar:\n",
      "\n",
      "\t  https://repo1.maven.org/maven2/org/apache/marmotta/ldpath-backend-sesame/3.4.0-SNAPSHOT/ldpath-backend-sesame-3.4.0-SNAPSHOT.jar\n",
      "\n"
     ]
    },
    {
     "name": "stderr",
     "output_type": "stream",
     "text": [
      "Failed to resolve com.github.anno4j:anno4j-core:2.4:\n",
      "File 'com.github.anno4j:anno4j-core:2.4' not found\n",
      "unresolved dependency: org.apache.marmotta#ldpath-core;3.4.0-SNAPSHOT: not found\n",
      "unresolved dependency: org.apache.marmotta#ldpath-backend-sesame;3.4.0-SNAPSHOT: not found"
     ]
    }
   ],
   "source": [
    "@file:Repository(\"https://jitpack.io/\")\n",
    "@file:DependsOn(\"com.github.kropp:jsonld-metadata:0.7.5\")\n",
    "@file:DependsOn(\"com.github.jsonld-java:jsonld-java:0.13.2\")\n",
    "@file:DependsOn(\"com.github.anno4j:anno4j-core:2.4\")"
   ]
  },
  {
   "cell_type": "code",
   "execution_count": 2,
   "metadata": {},
   "outputs": [
    {
     "name": "stderr",
     "output_type": "stream",
     "text": [
      "Line_1.jupyter.kts (1:12 - 18) Unresolved reference: schema\n",
      "Line_1.jupyter.kts (3:21 - 28) Unresolved reference: article\n",
      "Line_1.jupyter.kts (4:13 - 17) Unresolved reference: name\n",
      "Line_1.jupyter.kts (5:13 - 17) Unresolved reference: text\n",
      "Line_1.jupyter.kts (6:13 - 19) Unresolved reference: author\n",
      "Line_1.jupyter.kts (6:22 - 25) Unresolved reference: nGO\n",
      "Line_1.jupyter.kts (7:17 - 21) Unresolved reference: name\n",
      "Line_1.jupyter.kts (9:13 - 20) Unresolved reference: comment\n",
      "Line_1.jupyter.kts (10:17 - 21) Unresolved reference: text\n",
      "Line_1.jupyter.kts (11:17 - 29) Unresolved reference: authorPerson\n",
      "Line_1.jupyter.kts (12:21 - 25) Unresolved reference: name"
     ]
    }
   ],
   "source": [
    "import org.schema.kotlin.*\n",
    "\n",
    "val kotlinArticle = article {\n",
    "            name = \"88th Oscars ceremony will be held on February 28th\"\n",
    "            text = \"Lorem ipsum\"\n",
    "            author = nGO {\n",
    "                name = \"The Academy of Motion Picture Arts and Sciences\"\n",
    "            }\n",
    "            comment {\n",
    "                text = \"Hooray!\"\n",
    "                authorPerson {\n",
    "                    name = \"Max Mustermann\"\n",
    "                }\n",
    "            }\n",
    "}\n",
    "kotlinArticle\n"
   ]
  },
  {
   "cell_type": "code",
   "execution_count": 3,
   "metadata": {},
   "outputs": [
    {
     "name": "stderr",
     "output_type": "stream",
     "text": [
      "Line_2.jupyter.kts (1:12 - 18) Unresolved reference: schema\n",
      "Line_2.jupyter.kts (3:9 - 18) Unresolved reference: SchemaOrg\n",
      "Line_2.jupyter.kts (3:29 - 42) Unresolved reference: kotlinArticle"
     ]
    }
   ],
   "source": [
    "import org.schema.SchemaOrg\n",
    "\n",
    "val j = SchemaOrg.writeJson(kotlinArticle)\n",
    "j"
   ]
  },
  {
   "cell_type": "code",
   "execution_count": 4,
   "metadata": {},
   "outputs": [
    {
     "name": "stderr",
     "output_type": "stream",
     "text": [
      "Line_3.jupyter.kts (1:12 - 18) Unresolved reference: github\n",
      "Line_3.jupyter.kts (3:10 - 19) Unresolved reference: JsonUtils\n",
      "Line_3.jupyter.kts (3:35 - 36) Unresolved reference: j"
     ]
    }
   ],
   "source": [
    "import com.github.jsonldjava.utils.*\n",
    "\n",
    "val j2 = JsonUtils.toPrettyString(j)\n",
    "j2"
   ]
  },
  {
   "cell_type": "code",
   "execution_count": 5,
   "metadata": {},
   "outputs": [
    {
     "name": "stdout",
     "output_type": "stream",
     "text": [
      ":: problems summary ::\n",
      ":::: WARNINGS\n",
      "\t\tmodule not found: org.apache.marmotta#ldpath-core;3.4.0-SNAPSHOT\n",
      "\n",
      "\t==== jcenter.bintray.com: tried\n",
      "\n",
      "\t  https://jcenter.bintray.com/org/apache/marmotta/ldpath-core/3.4.0-SNAPSHOT/ldpath-core-3.4.0-SNAPSHOT.pom\n",
      "\n",
      "\t  -- artifact org.apache.marmotta#ldpath-core;3.4.0-SNAPSHOT!ldpath-core.jar:\n",
      "\n",
      "\t  https://jcenter.bintray.com/org/apache/marmotta/ldpath-core/3.4.0-SNAPSHOT/ldpath-core-3.4.0-SNAPSHOT.jar\n",
      "\n",
      "\t==== repo.maven.apache.org: tried\n",
      "\n",
      "\t  https://repo.maven.apache.org/maven2/org/apache/marmotta/ldpath-core/3.4.0-SNAPSHOT/ldpath-core-3.4.0-SNAPSHOT.pom\n",
      "\n",
      "\t  -- artifact org.apache.marmotta#ldpath-core;3.4.0-SNAPSHOT!ldpath-core.jar:\n",
      "\n",
      "\t  https://repo.maven.apache.org/maven2/org/apache/marmotta/ldpath-core/3.4.0-SNAPSHOT/ldpath-core-3.4.0-SNAPSHOT.jar\n",
      "\n",
      "\t==== jitpack.io: tried\n",
      "\n",
      "\t  https://jitpack.io/org/apache/marmotta/ldpath-core/3.4.0-SNAPSHOT/ldpath-core-3.4.0-SNAPSHOT.pom\n",
      "\n",
      "\t  -- artifact org.apache.marmotta#ldpath-core;3.4.0-SNAPSHOT!ldpath-core.jar:\n",
      "\n",
      "\t  https://jitpack.io/org/apache/marmotta/ldpath-core/3.4.0-SNAPSHOT/ldpath-core-3.4.0-SNAPSHOT.jar\n",
      "\n",
      "\t==== central: tried\n",
      "\n",
      "\t  https://repo1.maven.org/maven2/org/apache/marmotta/ldpath-core/3.4.0-SNAPSHOT/ldpath-core-3.4.0-SNAPSHOT.pom\n",
      "\n",
      "\t  -- artifact org.apache.marmotta#ldpath-core;3.4.0-SNAPSHOT!ldpath-core.jar:\n",
      "\n",
      "\t  https://repo1.maven.org/maven2/org/apache/marmotta/ldpath-core/3.4.0-SNAPSHOT/ldpath-core-3.4.0-SNAPSHOT.jar\n",
      "\n",
      "\t\tmodule not found: org.apache.marmotta#ldpath-backend-sesame;3.4.0-SNAPSHOT\n",
      "\n",
      "\t==== jcenter.bintray.com: tried\n",
      "\n",
      "\t  https://jcenter.bintray.com/org/apache/marmotta/ldpath-backend-sesame/3.4.0-SNAPSHOT/ldpath-backend-sesame-3.4.0-SNAPSHOT.pom\n",
      "\n",
      "\t  -- artifact org.apache.marmotta#ldpath-backend-sesame;3.4.0-SNAPSHOT!ldpath-backend-sesame.jar:\n",
      "\n",
      "\t  https://jcenter.bintray.com/org/apache/marmotta/ldpath-backend-sesame/3.4.0-SNAPSHOT/ldpath-backend-sesame-3.4.0-SNAPSHOT.jar\n",
      "\n",
      "\t==== repo.maven.apache.org: tried\n",
      "\n",
      "\t  https://repo.maven.apache.org/maven2/org/apache/marmotta/ldpath-backend-sesame/3.4.0-SNAPSHOT/ldpath-backend-sesame-3.4.0-SNAPSHOT.pom\n",
      "\n",
      "\t  -- artifact org.apache.marmotta#ldpath-backend-sesame;3.4.0-SNAPSHOT!ldpath-backend-sesame.jar:\n",
      "\n",
      "\t  https://repo.maven.apache.org/maven2/org/apache/marmotta/ldpath-backend-sesame/3.4.0-SNAPSHOT/ldpath-backend-sesame-3.4.0-SNAPSHOT.jar\n",
      "\n",
      "\t==== jitpack.io: tried\n",
      "\n",
      "\t  https://jitpack.io/org/apache/marmotta/ldpath-backend-sesame/3.4.0-SNAPSHOT/ldpath-backend-sesame-3.4.0-SNAPSHOT.pom\n",
      "\n",
      "\t  -- artifact org.apache.marmotta#ldpath-backend-sesame;3.4.0-SNAPSHOT!ldpath-backend-sesame.jar:\n",
      "\n",
      "\t  https://jitpack.io/org/apache/marmotta/ldpath-backend-sesame/3.4.0-SNAPSHOT/ldpath-backend-sesame-3.4.0-SNAPSHOT.jar\n",
      "\n",
      "\t==== central: tried\n",
      "\n",
      "\t  https://repo1.maven.org/maven2/org/apache/marmotta/ldpath-backend-sesame/3.4.0-SNAPSHOT/ldpath-backend-sesame-3.4.0-SNAPSHOT.pom\n",
      "\n",
      "\t  -- artifact org.apache.marmotta#ldpath-backend-sesame;3.4.0-SNAPSHOT!ldpath-backend-sesame.jar:\n",
      "\n",
      "\t  https://repo1.maven.org/maven2/org/apache/marmotta/ldpath-backend-sesame/3.4.0-SNAPSHOT/ldpath-backend-sesame-3.4.0-SNAPSHOT.jar\n",
      "\n"
     ]
    },
    {
     "name": "stderr",
     "output_type": "stream",
     "text": [
      "Failed to resolve com.github.anno4j:anno4j-core:2.4:\n",
      "File 'com.github.anno4j:anno4j-core:2.4' not found\n",
      "unresolved dependency: org.apache.marmotta#ldpath-core;3.4.0-SNAPSHOT: not found\n",
      "unresolved dependency: org.apache.marmotta#ldpath-backend-sesame;3.4.0-SNAPSHOT: not found"
     ]
    }
   ],
   "source": [
    "@file:DependsOn(\"com.github.anno4j:anno4j-core:2.4\")\n",
    "\n",
    "import com.github.anno4j.*\n",
    "\n",
    "val anno4j = Anno4j()\n",
    "\n"
   ]
  }
 ],
 "metadata": {
  "kernelspec": {
   "display_name": "Kotlin",
   "language": "kotlin",
   "name": "kotlin"
  },
  "language_info": {
   "codemirror_mode": "text/x-kotlin",
   "file_extension": ".kt",
   "mimetype": "text/x-kotlin",
   "name": "kotlin",
   "pygments_lexer": "kotlin",
   "version": "1.4.30-dev-3354"
  }
 },
 "nbformat": 4,
 "nbformat_minor": 2
}
